{
 "cells": [
  {
   "cell_type": "markdown",
   "metadata": {},
   "source": [
    "# Identify Fraud from Enron Email and Financial Data\n",
    "### By Jiemin Wang\n",
    "\n",
    "## Question 1\n",
    "### Summarize for us the goal of this project and how machine learning is useful in trying to accomplish it. As part of your answer, give some background on the dataset and how it can be used to answer the project question. Were there any outliers in the data when you got it, and how did you handle those?  [relevant rubric items: “data exploration”, “outlier investigation”]\n",
    "\n",
    "The goal of this project is to build a predictive model which helps to identify person of interest (POI) in Enron Fraud case. Machine learning is useful in trying to accomplish the goal since it provides computers with the ability to learn information such as categories which can then be applied to new dataset.\n",
    "\n",
    "The dataset contains 146 data points and 21 features. Of the 146 data points, 18 are labeled as POI and 128 are labeled as non-POI. Missing values (NaN) exist in all features except **POI**. We replace missing values with zeros for all features of numeric types and drop feature **email_address** since it contains text string of email addresses.\n",
    "\n",
    "After reading the file \"enron61702insiderpay.pdf\", we found that **TOTAL** and **THE TRAVEL AGENCY IN THE PARK** are potentially outliers of the dataset. With scatter plot of bonus and salary, we confirmed that **TOTAL** is an outlier. From the name **THE TRAVEL AGENCY IN THE PARK**, we considered it as an outlier as well. In addition, **LOCKHART EUGENE E** has missing values of all features. We removed the above three rows from the dataset. \n",
    "\n",
    "## Question 2\n",
    "### What features did you end up using in your POI identifier, and what selection process did you use to pick them? Did you have to do any scaling? Why or why not? As part of the assignment, you should attempt to engineer your own feature that does not come ready-made in the dataset -- explain what feature you tried to make, and the rationale behind it. (You do not necessarily have to use it in the final analysis, only engineer and test it.) In your feature selection step, if you used an algorithm like a decision tree, please also give the feature importances of the features that you use, and if you used an automated feature selection function like SelectKBest, please report the feature scores and reasons for your choice of parameter values.  [relevant rubric items: “create new features”, “properly scale features”, “intelligently select feature”]\n",
    "\n",
    "** Feature Selection **\n",
    "\n",
    "The feature selection was done automatecally by using GridSearchCV together with Pipeline. We used pipeline to chain the steps in classification: feature scaling, feature selection and classificaiton. We didn't manually select features since it requires expertise knowledge about the procedures otherwise the selected features can be biased. Therefore, we relied on the resutls from automated feature selection function. \n",
    "\n",
    "For each step in pipeline, we considered:\n",
    "\n",
    "1. Feature scaling: w/o scaling, MinMaxScaler, StandardScaler.\n",
    "2. Feature selection: SelectKBest, PCA.\n",
    "3. Classification: LogisticRegression, DecisionTreeClassifier, SVC, GaussianNB, AdaBoostClassifier, RandomForestClassifier\n",
    "\n",
    "The following procedure is based on the results from GridSearchCV and the test_classifier of test.py. We used StratifiedShuffleSplit cross validation due to the small size of our dataset.\n",
    "\n",
    "The procedure we followed:\n",
    "\n",
    "1. Choose the classifier based on the performace we got.\n",
    "    To simplify the procedure and reduce the combinations of parameters, we first used MinMaxScaler and SelectKBest as the first and the second steps in our pipeline. Then, we tuned the number of features of SelectKBest and the parameters of different classifiers with GridSearchCV. Based on the performance, we chose the best classifier.\n",
    "\n",
    "2. Compare and choose feature scaling algorithm.\n",
    "    Next, with SelectKBest and the chosen classifier as the second and the third steps in pipeline, we compared the performance by using different scaling algorithms. We chose the feature scaling algorithm based on performance as well.\n",
    "\n",
    "3. Compare and choose feature selection algorithm.\n",
    "    After choosing feature scaling and classfication algorithm, we then compared the performance of using different feature selection algorithms and choose the better one.\n",
    "\n",
    "4. Parameter tuning.\n",
    "    Parameter tuning was performed by using GridSearchCV. We tried different numbers of folds in cross validation and different parameters combinations in the pipeline. The final resutls are based on the perforamnce we got.\n",
    " \n",
    "\n",
    "** Feature Engineer **\n",
    "\n",
    "data['poi_to_this_person_ratio'] = np.where(data['to_messages'] > 0, data['from_poi_to_this_person']/data['to_messages'], data['to_messages'])\n",
    "data['this_person_to_poi_ratio'] = np.where(data['from_messages'] > 0, data['from_this_person_to_poi']/data['from_messages'], data['from_messages'])\n",
    "\n",
    "We created two new features:\n",
    "\n",
    "* poi_to_this_person_ratio: the ratio of from_poi_to_this_person and to_messages\n",
    "* this_person_to_poi_ratio: the ratio of from_this_person_to_poi and from_messages\n",
    "\n",
    "The reason to create the above features is that the person who sent a large portion of his/her emails to POI is possible to be a POI as well. Similarly, the person who received a large portion of his/her emails from POI is also possible to be a POI. \n",
    "\n",
    "** Final Selected Features **\n",
    "\n",
    "The final features we chose by using GridSearchCV and SelectKBest:\n",
    "\n",
    "```\n",
    "total_stock_value score: 14.691309\n",
    "exercised_stock_options score: 13.714021\n",
    "salary score: 11.196268\n",
    "bonus score: 11.129479\n",
    "this_person_to_poi_ratio score: 8.243016\n",
    "restricted_stock score: 6.576949\n",
    "expenses score: 5.906223\n",
    "shared_receipt_with_poi score: 5.495321\n",
    "deferred_income score: 5.304059\n",
    "from_poi_to_this_person score: 3.590680\n",
    "total_payments score: 2.767899\n",
    "long_term_incentive score: 2.611274\n",
    "poi_to_this_person_ratio score: 2.349338\n",
    "from_this_person_to_poi score: 2.143841\n",
    "director_fees score: 1.796428\n",
    "restricted_stock_deferred score: 0.763457\n",
    "```\n",
    "\n",
    "## Question 3\n",
    "### What algorithm did you end up using? What other one(s) did you try? How did model performance differ between algorithms?  [relevant rubric item: “pick an algorithm”]\n",
    "\n",
    "The algorithms we tried and their performance:\n",
    "\n",
    "Algorithm | Precision | Recall | F1 | F2\n",
    "--- | --- | --- | --- | ---\n",
    "Logistic Regression | 0.30234 | 0.56900 | 0.39486 | 0.48368\n",
    "Decision Tree | 0.34194 | 0.68200 | 0.45550 | 0.56885\n",
    "SVM | 0.27157 | 0.87500 | 0.41450 | 0.60579\n",
    "Naive Bayes | 0.37753 | 0.31750 | 0.34492 | 0.32793\n",
    "AdaBoost w/ Decision Tree | 0.40382 | 0.40200 | 0.40291 | 0.40236\n",
    "Random Forest | 0.42927 | 0.17450 | 0.24813 | 0.19800\n",
    "\n",
    "Note: We used the test_classifier in test.py to evaluate and compare the performance. \n",
    "\n",
    "Based on the results above, we further compare the performance of Decision Tree and AdaBoost with Decision Tree since they have relatively high values of different performance metrics. With further investigation, we got the results as following:\n",
    "\n",
    "Model | Precision | Recall | F1 | F2\n",
    "--- | --- | --- | --- | ---\n",
    "MinMaxScaler + SelectKBest + Decision Tree | 0.34194 | 0.68200 | 0.45550 | 0.56885\n",
    "StandardScaler + SelectKBest + Decision Tree | 0.34670 | 0.60950 | 0.44199 | 0.52926\n",
    "SelectKBest + Decision Tree | 0.34680 | 0.60950 | 0.44207 | 0.52931\n",
    "MinMaxScaler + PCA + Decision Tree | 0.28957 | 0.72450 | 0.41376 | 0.55714\n",
    "MinMaxScaler + SelectKBest + AdaBoost | 0.40382 | 0.40200 | 0.40291 | 0.40236\n",
    "StandardScaler + SelectKBest + AdaBoost | 0.36763 | 0.28050 | 0.31821 | 0.29446\n",
    "SelectKBest + AdaBoost | 0.37676 | 0.34850 | 0.36208 | 0.35381\n",
    "MinMaxScaler + PCA + AdaBoost | 0.21760 | 0.20900 | 0.21321 | 0.21066\n",
    "\n",
    "Finally, we chose \"MinMaxScaler + SelectKBest + Decision Tree\" as our final POI identifier. The reason to choose this model:\n",
    "\n",
    "1. Both precision and recall above 0.3\n",
    "2. Highest F1 and F2 scores\n",
    "3. Compared to \"MinMaxScaler + SelectKBest + AdaBoost\", our chosen model has higher recall which is more important to POI identifier since we won't miss suspects. As we can see, 68.2% of all POI can be found with the chosen model and only 31.8% are missed. 34.2% of the people classified as POI are actual POI. Although the precision is lower than that of \"MinMaxScaler + SelectKBest + AdaBoost\", further detective work can be done to identify those innocents. \n",
    "\n",
    "## Question 4\n",
    "### What does it mean to tune the parameters of an algorithm, and what can happen if you don’t do this well?  How did you tune the parameters of your particular algorithm? (Some algorithms do not have parameters that you need to tune -- if this is the case for the one you picked, identify and briefly explain how you would have done it for the model that was not your final choice or a different model that does utilize parameter tuning, e.g. a decision tree classifier).  [relevant rubric item: “tune the algorithm”]\n",
    "\n",
    "Tuning the parameters of an algorithm includes changing the values of parameters and comparing the results to select the best combination of an algorithm. Although some algorithms do not have parameters that we need to tune, most algorithms have a lot of parameters that we can tune to achieve better result than that of the default setting. \n",
    "\n",
    "If we don't tune parameters properly, it can happen that we cannot get good performance or the results are biased and cannot be applied to general cases. \n",
    "\n",
    "In our project, we tune the parameters by using GridSearchCV, which helps us to do an exhaustive search over specified parameter values and return the best results automatically. \n",
    "\n",
    "## Question 5\n",
    "### What is validation, and what’s a classic mistake you can make if you do it wrong? How did you validate your analysis?  [relevant rubric item: “validation strategy”]\n",
    "\n",
    "Validation is a process to estimate the performance the model you have been trained on the test data. \n",
    "\n",
    "One classic mistake is using all the data, i.e. both the training and testing data, to train the model, which results in overfitting.  \n",
    "\n",
    "In our analysis, we used Stratified Shuffle Split to split the data into training and testing data iteratively to cross validate the model we chose. Stratified Shuffle Split is good to use for our small size dataset.\n",
    "\n",
    "## Question 6\n",
    "### Give at least 2 evaluation metrics and your average performance for each of them.  Explain an interpretation of your metrics that says something human-understandable about your algorithm’s performance. [relevant rubric item: “usage of evaluation metrics”]\n",
    "\n",
    "We compared the performance by computing precision, recall, F1 and F2 scores, which are average performance values over 15,000 predictions. The results have been provided in the answer to Question 3.\n",
    "\n",
    "We can see that with the final model, 68.2% of all POI can be found with the chosen model and only 31.8% are missed. 34.2% of the people classified as POI are actual POI. F1 score indicates a weighted average of precision and recall. Therefore, higher F1 score means both higher precision and higher recall scores. F2 weighs recall higher than precision, which means fewer false negative, i.e, fewer missed POI in our case.  \n",
    "\n"
   ]
  },
  {
   "cell_type": "code",
   "execution_count": 1,
   "metadata": {
    "collapsed": false
   },
   "outputs": [
    {
     "name": "stderr",
     "output_type": "stream",
     "text": [
      "/Users/jieminwang/anaconda/lib/python2.7/site-packages/sklearn/cross_validation.py:44: DeprecationWarning: This module was deprecated in version 0.18 in favor of the model_selection module into which all the refactored classes and functions are moved. Also note that the interface of the new CV iterators are different from that of this module. This module will be removed in 0.20.\n",
      "  \"This module will be removed in 0.20.\", DeprecationWarning)\n"
     ]
    },
    {
     "name": "stdout",
     "output_type": "stream",
     "text": [
      "Populating the interactive namespace from numpy and matplotlib\n"
     ]
    }
   ],
   "source": [
    "import sys\n",
    "import pickle\n",
    "sys.path.append(\"../tools/\")\n",
    "\n",
    "from feature_format import featureFormat, targetFeatureSplit\n",
    "from tester import dump_classifier_and_data, test_classifier\n",
    "\n",
    "%pylab inline\n",
    "\n",
    "import matplotlib.pyplot as plt\n",
    "import seaborn as sns\n",
    "import pandas as pd\n",
    "import numpy as np\n",
    "\n",
    "from sklearn.feature_selection import SelectKBest\n",
    "from sklearn.pipeline import Pipeline\n",
    "from sklearn.ensemble import RandomForestClassifier, AdaBoostClassifier\n",
    "from sklearn.tree import DecisionTreeClassifier\n",
    "from sklearn.linear_model import LogisticRegression\n",
    "from sklearn.naive_bayes import GaussianNB\n",
    "from sklearn.model_selection import GridSearchCV\n",
    "from sklearn.model_selection import StratifiedShuffleSplit, train_test_split\n",
    "from sklearn.preprocessing import MinMaxScaler"
   ]
  },
  {
   "cell_type": "code",
   "execution_count": 2,
   "metadata": {
    "collapsed": false
   },
   "outputs": [],
   "source": [
    "### Task 1: Select what features you'll use.\n",
    "### features_list is a list of strings, each of which is a feature name.\n",
    "### The first feature must be \"poi\".\n",
    "# features_list = ['poi','salary'] # You will need to use more features\n",
    "\n",
    "### Load the dictionary containing the dataset\n",
    "with open(\"final_project_dataset.pkl\", \"r\") as data_file:\n",
    "    data_dict = pickle.load(data_file)"
   ]
  },
  {
   "cell_type": "code",
   "execution_count": 3,
   "metadata": {
    "collapsed": false
   },
   "outputs": [
    {
     "data": {
      "text/plain": [
       "146"
      ]
     },
     "execution_count": 3,
     "metadata": {},
     "output_type": "execute_result"
    }
   ],
   "source": [
    "len(data_dict)"
   ]
  },
  {
   "cell_type": "code",
   "execution_count": 4,
   "metadata": {
    "collapsed": false
   },
   "outputs": [
    {
     "data": {
      "text/plain": [
       "21"
      ]
     },
     "execution_count": 4,
     "metadata": {},
     "output_type": "execute_result"
    }
   ],
   "source": [
    "persons_keys = data_dict.keys()\n",
    "features_keys = data_dict[persons_keys[0]].keys()\n",
    "len(features_keys)"
   ]
  },
  {
   "cell_type": "code",
   "execution_count": 5,
   "metadata": {
    "collapsed": false
   },
   "outputs": [
    {
     "name": "stdout",
     "output_type": "stream",
     "text": [
      "['salary', 'to_messages', 'deferral_payments', 'total_payments', 'exercised_stock_options', 'bonus', 'restricted_stock', 'shared_receipt_with_poi', 'restricted_stock_deferred', 'total_stock_value', 'expenses', 'loan_advances', 'from_messages', 'other', 'from_this_person_to_poi', 'poi', 'director_fees', 'deferred_income', 'long_term_incentive', 'email_address', 'from_poi_to_this_person']\n"
     ]
    }
   ],
   "source": [
    "print features_keys"
   ]
  },
  {
   "cell_type": "code",
   "execution_count": 6,
   "metadata": {
    "collapsed": false
   },
   "outputs": [
    {
     "name": "stdout",
     "output_type": "stream",
     "text": [
      "True\n"
     ]
    }
   ],
   "source": [
    "print data_dict[persons_keys[0]]['deferral_payments'] == 'NaN'"
   ]
  },
  {
   "cell_type": "code",
   "execution_count": 7,
   "metadata": {
    "collapsed": false
   },
   "outputs": [
    {
     "data": {
      "text/html": [
       "<div>\n",
       "<table border=\"1\" class=\"dataframe\">\n",
       "  <thead>\n",
       "    <tr style=\"text-align: right;\">\n",
       "      <th></th>\n",
       "      <th>salary</th>\n",
       "      <th>to_messages</th>\n",
       "      <th>deferral_payments</th>\n",
       "      <th>total_payments</th>\n",
       "      <th>exercised_stock_options</th>\n",
       "      <th>bonus</th>\n",
       "      <th>restricted_stock</th>\n",
       "      <th>shared_receipt_with_poi</th>\n",
       "      <th>restricted_stock_deferred</th>\n",
       "      <th>total_stock_value</th>\n",
       "      <th>...</th>\n",
       "      <th>loan_advances</th>\n",
       "      <th>from_messages</th>\n",
       "      <th>other</th>\n",
       "      <th>from_this_person_to_poi</th>\n",
       "      <th>poi</th>\n",
       "      <th>director_fees</th>\n",
       "      <th>deferred_income</th>\n",
       "      <th>long_term_incentive</th>\n",
       "      <th>email_address</th>\n",
       "      <th>from_poi_to_this_person</th>\n",
       "    </tr>\n",
       "  </thead>\n",
       "  <tbody>\n",
       "    <tr>\n",
       "      <th>ALLEN PHILLIP K</th>\n",
       "      <td>201955</td>\n",
       "      <td>2902</td>\n",
       "      <td>2869717</td>\n",
       "      <td>4484442</td>\n",
       "      <td>1729541</td>\n",
       "      <td>4175000</td>\n",
       "      <td>126027</td>\n",
       "      <td>1407</td>\n",
       "      <td>-126027</td>\n",
       "      <td>1729541</td>\n",
       "      <td>...</td>\n",
       "      <td>NaN</td>\n",
       "      <td>2195</td>\n",
       "      <td>152</td>\n",
       "      <td>65</td>\n",
       "      <td>False</td>\n",
       "      <td>NaN</td>\n",
       "      <td>-3081055</td>\n",
       "      <td>304805</td>\n",
       "      <td>phillip.allen@enron.com</td>\n",
       "      <td>47</td>\n",
       "    </tr>\n",
       "    <tr>\n",
       "      <th>BADUM JAMES P</th>\n",
       "      <td>NaN</td>\n",
       "      <td>NaN</td>\n",
       "      <td>178980</td>\n",
       "      <td>182466</td>\n",
       "      <td>257817</td>\n",
       "      <td>NaN</td>\n",
       "      <td>NaN</td>\n",
       "      <td>NaN</td>\n",
       "      <td>NaN</td>\n",
       "      <td>257817</td>\n",
       "      <td>...</td>\n",
       "      <td>NaN</td>\n",
       "      <td>NaN</td>\n",
       "      <td>NaN</td>\n",
       "      <td>NaN</td>\n",
       "      <td>False</td>\n",
       "      <td>NaN</td>\n",
       "      <td>NaN</td>\n",
       "      <td>NaN</td>\n",
       "      <td>NaN</td>\n",
       "      <td>NaN</td>\n",
       "    </tr>\n",
       "    <tr>\n",
       "      <th>BANNANTINE JAMES M</th>\n",
       "      <td>477</td>\n",
       "      <td>566</td>\n",
       "      <td>NaN</td>\n",
       "      <td>916197</td>\n",
       "      <td>4046157</td>\n",
       "      <td>NaN</td>\n",
       "      <td>1757552</td>\n",
       "      <td>465</td>\n",
       "      <td>-560222</td>\n",
       "      <td>5243487</td>\n",
       "      <td>...</td>\n",
       "      <td>NaN</td>\n",
       "      <td>29</td>\n",
       "      <td>864523</td>\n",
       "      <td>0</td>\n",
       "      <td>False</td>\n",
       "      <td>NaN</td>\n",
       "      <td>-5104</td>\n",
       "      <td>NaN</td>\n",
       "      <td>james.bannantine@enron.com</td>\n",
       "      <td>39</td>\n",
       "    </tr>\n",
       "    <tr>\n",
       "      <th>BAXTER JOHN C</th>\n",
       "      <td>267102</td>\n",
       "      <td>NaN</td>\n",
       "      <td>1295738</td>\n",
       "      <td>5634343</td>\n",
       "      <td>6680544</td>\n",
       "      <td>1200000</td>\n",
       "      <td>3942714</td>\n",
       "      <td>NaN</td>\n",
       "      <td>NaN</td>\n",
       "      <td>10623258</td>\n",
       "      <td>...</td>\n",
       "      <td>NaN</td>\n",
       "      <td>NaN</td>\n",
       "      <td>2660303</td>\n",
       "      <td>NaN</td>\n",
       "      <td>False</td>\n",
       "      <td>NaN</td>\n",
       "      <td>-1386055</td>\n",
       "      <td>1586055</td>\n",
       "      <td>NaN</td>\n",
       "      <td>NaN</td>\n",
       "    </tr>\n",
       "    <tr>\n",
       "      <th>BAY FRANKLIN R</th>\n",
       "      <td>239671</td>\n",
       "      <td>NaN</td>\n",
       "      <td>260455</td>\n",
       "      <td>827696</td>\n",
       "      <td>NaN</td>\n",
       "      <td>400000</td>\n",
       "      <td>145796</td>\n",
       "      <td>NaN</td>\n",
       "      <td>-82782</td>\n",
       "      <td>63014</td>\n",
       "      <td>...</td>\n",
       "      <td>NaN</td>\n",
       "      <td>NaN</td>\n",
       "      <td>69</td>\n",
       "      <td>NaN</td>\n",
       "      <td>False</td>\n",
       "      <td>NaN</td>\n",
       "      <td>-201641</td>\n",
       "      <td>NaN</td>\n",
       "      <td>frank.bay@enron.com</td>\n",
       "      <td>NaN</td>\n",
       "    </tr>\n",
       "  </tbody>\n",
       "</table>\n",
       "<p>5 rows × 21 columns</p>\n",
       "</div>"
      ],
      "text/plain": [
       "                    salary to_messages deferral_payments total_payments  \\\n",
       "ALLEN PHILLIP K     201955        2902           2869717        4484442   \n",
       "BADUM JAMES P          NaN         NaN            178980         182466   \n",
       "BANNANTINE JAMES M     477         566               NaN         916197   \n",
       "BAXTER JOHN C       267102         NaN           1295738        5634343   \n",
       "BAY FRANKLIN R      239671         NaN            260455         827696   \n",
       "\n",
       "                   exercised_stock_options    bonus restricted_stock  \\\n",
       "ALLEN PHILLIP K                    1729541  4175000           126027   \n",
       "BADUM JAMES P                       257817      NaN              NaN   \n",
       "BANNANTINE JAMES M                 4046157      NaN          1757552   \n",
       "BAXTER JOHN C                      6680544  1200000          3942714   \n",
       "BAY FRANKLIN R                         NaN   400000           145796   \n",
       "\n",
       "                   shared_receipt_with_poi restricted_stock_deferred  \\\n",
       "ALLEN PHILLIP K                       1407                   -126027   \n",
       "BADUM JAMES P                          NaN                       NaN   \n",
       "BANNANTINE JAMES M                     465                   -560222   \n",
       "BAXTER JOHN C                          NaN                       NaN   \n",
       "BAY FRANKLIN R                         NaN                    -82782   \n",
       "\n",
       "                   total_stock_value           ...           loan_advances  \\\n",
       "ALLEN PHILLIP K              1729541           ...                     NaN   \n",
       "BADUM JAMES P                 257817           ...                     NaN   \n",
       "BANNANTINE JAMES M           5243487           ...                     NaN   \n",
       "BAXTER JOHN C               10623258           ...                     NaN   \n",
       "BAY FRANKLIN R                 63014           ...                     NaN   \n",
       "\n",
       "                   from_messages    other from_this_person_to_poi    poi  \\\n",
       "ALLEN PHILLIP K             2195      152                      65  False   \n",
       "BADUM JAMES P                NaN      NaN                     NaN  False   \n",
       "BANNANTINE JAMES M            29   864523                       0  False   \n",
       "BAXTER JOHN C                NaN  2660303                     NaN  False   \n",
       "BAY FRANKLIN R               NaN       69                     NaN  False   \n",
       "\n",
       "                   director_fees deferred_income long_term_incentive  \\\n",
       "ALLEN PHILLIP K              NaN        -3081055              304805   \n",
       "BADUM JAMES P                NaN             NaN                 NaN   \n",
       "BANNANTINE JAMES M           NaN           -5104                 NaN   \n",
       "BAXTER JOHN C                NaN        -1386055             1586055   \n",
       "BAY FRANKLIN R               NaN         -201641                 NaN   \n",
       "\n",
       "                                 email_address from_poi_to_this_person  \n",
       "ALLEN PHILLIP K        phillip.allen@enron.com                      47  \n",
       "BADUM JAMES P                              NaN                     NaN  \n",
       "BANNANTINE JAMES M  james.bannantine@enron.com                      39  \n",
       "BAXTER JOHN C                              NaN                     NaN  \n",
       "BAY FRANKLIN R             frank.bay@enron.com                     NaN  \n",
       "\n",
       "[5 rows x 21 columns]"
      ]
     },
     "execution_count": 7,
     "metadata": {},
     "output_type": "execute_result"
    }
   ],
   "source": [
    "data = pd.DataFrame.from_dict(data_dict, orient='index')\n",
    "data.head()"
   ]
  },
  {
   "cell_type": "code",
   "execution_count": 8,
   "metadata": {
    "collapsed": false
   },
   "outputs": [],
   "source": [
    "data.replace('NaN',np.nan, inplace=True)"
   ]
  },
  {
   "cell_type": "code",
   "execution_count": 9,
   "metadata": {
    "collapsed": false
   },
   "outputs": [
    {
     "data": {
      "text/plain": [
       "salary                        51\n",
       "to_messages                   60\n",
       "deferral_payments            107\n",
       "total_payments                21\n",
       "exercised_stock_options       44\n",
       "bonus                         64\n",
       "restricted_stock              36\n",
       "shared_receipt_with_poi       60\n",
       "restricted_stock_deferred    128\n",
       "total_stock_value             20\n",
       "expenses                      51\n",
       "loan_advances                142\n",
       "from_messages                 60\n",
       "other                         53\n",
       "from_this_person_to_poi       60\n",
       "poi                            0\n",
       "director_fees                129\n",
       "deferred_income               97\n",
       "long_term_incentive           80\n",
       "email_address                 35\n",
       "from_poi_to_this_person       60\n",
       "dtype: int64"
      ]
     },
     "execution_count": 9,
     "metadata": {},
     "output_type": "execute_result"
    }
   ],
   "source": [
    "data.isnull().sum()"
   ]
  },
  {
   "cell_type": "code",
   "execution_count": 10,
   "metadata": {
    "collapsed": false
   },
   "outputs": [
    {
     "data": {
      "text/plain": [
       "18"
      ]
     },
     "execution_count": 10,
     "metadata": {},
     "output_type": "execute_result"
    }
   ],
   "source": [
    "# POI\n",
    "sum(data['poi'] == True)"
   ]
  },
  {
   "cell_type": "code",
   "execution_count": 11,
   "metadata": {
    "collapsed": false
   },
   "outputs": [
    {
     "data": {
      "text/plain": [
       "128"
      ]
     },
     "execution_count": 11,
     "metadata": {},
     "output_type": "execute_result"
    }
   ],
   "source": [
    "# Non-poi\n",
    "sum(data['poi'] == False)"
   ]
  },
  {
   "cell_type": "code",
   "execution_count": 12,
   "metadata": {
    "collapsed": false,
    "scrolled": true
   },
   "outputs": [],
   "source": [
    "# Drop email-address\n",
    "data = data.drop(['email_address'], 1)"
   ]
  },
  {
   "cell_type": "code",
   "execution_count": 13,
   "metadata": {
    "collapsed": false
   },
   "outputs": [],
   "source": [
    "# Replace null with 0\n",
    "data.fillna(0, inplace = True)"
   ]
  },
  {
   "cell_type": "code",
   "execution_count": 14,
   "metadata": {
    "collapsed": false
   },
   "outputs": [
    {
     "data": {
      "text/html": [
       "<div>\n",
       "<table border=\"1\" class=\"dataframe\">\n",
       "  <thead>\n",
       "    <tr style=\"text-align: right;\">\n",
       "      <th></th>\n",
       "      <th>salary</th>\n",
       "      <th>to_messages</th>\n",
       "      <th>deferral_payments</th>\n",
       "      <th>total_payments</th>\n",
       "      <th>exercised_stock_options</th>\n",
       "      <th>bonus</th>\n",
       "      <th>restricted_stock</th>\n",
       "      <th>shared_receipt_with_poi</th>\n",
       "      <th>restricted_stock_deferred</th>\n",
       "      <th>total_stock_value</th>\n",
       "      <th>expenses</th>\n",
       "      <th>loan_advances</th>\n",
       "      <th>from_messages</th>\n",
       "      <th>other</th>\n",
       "      <th>from_this_person_to_poi</th>\n",
       "      <th>director_fees</th>\n",
       "      <th>deferred_income</th>\n",
       "      <th>long_term_incentive</th>\n",
       "      <th>from_poi_to_this_person</th>\n",
       "    </tr>\n",
       "  </thead>\n",
       "  <tbody>\n",
       "    <tr>\n",
       "      <th>count</th>\n",
       "      <td>1.460000e+02</td>\n",
       "      <td>146.000000</td>\n",
       "      <td>1.460000e+02</td>\n",
       "      <td>1.460000e+02</td>\n",
       "      <td>1.460000e+02</td>\n",
       "      <td>1.460000e+02</td>\n",
       "      <td>1.460000e+02</td>\n",
       "      <td>146.000000</td>\n",
       "      <td>1.460000e+02</td>\n",
       "      <td>1.460000e+02</td>\n",
       "      <td>1.460000e+02</td>\n",
       "      <td>1.460000e+02</td>\n",
       "      <td>146.000000</td>\n",
       "      <td>1.460000e+02</td>\n",
       "      <td>146.000000</td>\n",
       "      <td>1.460000e+02</td>\n",
       "      <td>1.460000e+02</td>\n",
       "      <td>1.460000e+02</td>\n",
       "      <td>146.000000</td>\n",
       "    </tr>\n",
       "    <tr>\n",
       "      <th>mean</th>\n",
       "      <td>3.658114e+05</td>\n",
       "      <td>1221.589041</td>\n",
       "      <td>4.387965e+05</td>\n",
       "      <td>4.350622e+06</td>\n",
       "      <td>4.182736e+06</td>\n",
       "      <td>1.333474e+06</td>\n",
       "      <td>1.749257e+06</td>\n",
       "      <td>692.986301</td>\n",
       "      <td>2.051637e+04</td>\n",
       "      <td>5.846018e+06</td>\n",
       "      <td>7.074827e+04</td>\n",
       "      <td>1.149658e+06</td>\n",
       "      <td>358.602740</td>\n",
       "      <td>5.854318e+05</td>\n",
       "      <td>24.287671</td>\n",
       "      <td>1.942249e+04</td>\n",
       "      <td>-3.827622e+05</td>\n",
       "      <td>6.646839e+05</td>\n",
       "      <td>38.226027</td>\n",
       "    </tr>\n",
       "    <tr>\n",
       "      <th>std</th>\n",
       "      <td>2.203575e+06</td>\n",
       "      <td>2226.770637</td>\n",
       "      <td>2.741325e+06</td>\n",
       "      <td>2.693448e+07</td>\n",
       "      <td>2.607040e+07</td>\n",
       "      <td>8.094029e+06</td>\n",
       "      <td>1.089995e+07</td>\n",
       "      <td>1072.969492</td>\n",
       "      <td>1.439661e+06</td>\n",
       "      <td>3.624681e+07</td>\n",
       "      <td>4.327163e+05</td>\n",
       "      <td>9.649342e+06</td>\n",
       "      <td>1441.259868</td>\n",
       "      <td>3.682345e+06</td>\n",
       "      <td>79.278206</td>\n",
       "      <td>1.190543e+05</td>\n",
       "      <td>2.378250e+06</td>\n",
       "      <td>4.046072e+06</td>\n",
       "      <td>73.901124</td>\n",
       "    </tr>\n",
       "    <tr>\n",
       "      <th>min</th>\n",
       "      <td>0.000000e+00</td>\n",
       "      <td>0.000000</td>\n",
       "      <td>-1.025000e+05</td>\n",
       "      <td>0.000000e+00</td>\n",
       "      <td>0.000000e+00</td>\n",
       "      <td>0.000000e+00</td>\n",
       "      <td>-2.604490e+06</td>\n",
       "      <td>0.000000</td>\n",
       "      <td>-7.576788e+06</td>\n",
       "      <td>-4.409300e+04</td>\n",
       "      <td>0.000000e+00</td>\n",
       "      <td>0.000000e+00</td>\n",
       "      <td>0.000000</td>\n",
       "      <td>0.000000e+00</td>\n",
       "      <td>0.000000</td>\n",
       "      <td>0.000000e+00</td>\n",
       "      <td>-2.799289e+07</td>\n",
       "      <td>0.000000e+00</td>\n",
       "      <td>0.000000</td>\n",
       "    </tr>\n",
       "    <tr>\n",
       "      <th>25%</th>\n",
       "      <td>0.000000e+00</td>\n",
       "      <td>0.000000</td>\n",
       "      <td>0.000000e+00</td>\n",
       "      <td>9.394475e+04</td>\n",
       "      <td>0.000000e+00</td>\n",
       "      <td>0.000000e+00</td>\n",
       "      <td>8.115000e+03</td>\n",
       "      <td>0.000000</td>\n",
       "      <td>0.000000e+00</td>\n",
       "      <td>2.288695e+05</td>\n",
       "      <td>0.000000e+00</td>\n",
       "      <td>0.000000e+00</td>\n",
       "      <td>0.000000</td>\n",
       "      <td>0.000000e+00</td>\n",
       "      <td>0.000000</td>\n",
       "      <td>0.000000e+00</td>\n",
       "      <td>-3.792600e+04</td>\n",
       "      <td>0.000000e+00</td>\n",
       "      <td>0.000000</td>\n",
       "    </tr>\n",
       "    <tr>\n",
       "      <th>50%</th>\n",
       "      <td>2.105960e+05</td>\n",
       "      <td>289.000000</td>\n",
       "      <td>0.000000e+00</td>\n",
       "      <td>9.413595e+05</td>\n",
       "      <td>6.082935e+05</td>\n",
       "      <td>3.000000e+05</td>\n",
       "      <td>3.605280e+05</td>\n",
       "      <td>102.500000</td>\n",
       "      <td>0.000000e+00</td>\n",
       "      <td>9.659550e+05</td>\n",
       "      <td>2.018200e+04</td>\n",
       "      <td>0.000000e+00</td>\n",
       "      <td>16.500000</td>\n",
       "      <td>9.595000e+02</td>\n",
       "      <td>0.000000</td>\n",
       "      <td>0.000000e+00</td>\n",
       "      <td>0.000000e+00</td>\n",
       "      <td>0.000000e+00</td>\n",
       "      <td>2.500000</td>\n",
       "    </tr>\n",
       "    <tr>\n",
       "      <th>75%</th>\n",
       "      <td>2.708505e+05</td>\n",
       "      <td>1585.750000</td>\n",
       "      <td>9.684500e+03</td>\n",
       "      <td>1.968287e+06</td>\n",
       "      <td>1.714221e+06</td>\n",
       "      <td>8.000000e+05</td>\n",
       "      <td>8.145280e+05</td>\n",
       "      <td>893.500000</td>\n",
       "      <td>0.000000e+00</td>\n",
       "      <td>2.319991e+06</td>\n",
       "      <td>5.374075e+04</td>\n",
       "      <td>0.000000e+00</td>\n",
       "      <td>51.250000</td>\n",
       "      <td>1.506065e+05</td>\n",
       "      <td>13.750000</td>\n",
       "      <td>0.000000e+00</td>\n",
       "      <td>0.000000e+00</td>\n",
       "      <td>3.750648e+05</td>\n",
       "      <td>40.750000</td>\n",
       "    </tr>\n",
       "    <tr>\n",
       "      <th>max</th>\n",
       "      <td>2.670423e+07</td>\n",
       "      <td>15149.000000</td>\n",
       "      <td>3.208340e+07</td>\n",
       "      <td>3.098866e+08</td>\n",
       "      <td>3.117640e+08</td>\n",
       "      <td>9.734362e+07</td>\n",
       "      <td>1.303223e+08</td>\n",
       "      <td>5521.000000</td>\n",
       "      <td>1.545629e+07</td>\n",
       "      <td>4.345095e+08</td>\n",
       "      <td>5.235198e+06</td>\n",
       "      <td>8.392500e+07</td>\n",
       "      <td>14368.000000</td>\n",
       "      <td>4.266759e+07</td>\n",
       "      <td>609.000000</td>\n",
       "      <td>1.398517e+06</td>\n",
       "      <td>0.000000e+00</td>\n",
       "      <td>4.852193e+07</td>\n",
       "      <td>528.000000</td>\n",
       "    </tr>\n",
       "  </tbody>\n",
       "</table>\n",
       "</div>"
      ],
      "text/plain": [
       "             salary   to_messages  deferral_payments  total_payments  \\\n",
       "count  1.460000e+02    146.000000       1.460000e+02    1.460000e+02   \n",
       "mean   3.658114e+05   1221.589041       4.387965e+05    4.350622e+06   \n",
       "std    2.203575e+06   2226.770637       2.741325e+06    2.693448e+07   \n",
       "min    0.000000e+00      0.000000      -1.025000e+05    0.000000e+00   \n",
       "25%    0.000000e+00      0.000000       0.000000e+00    9.394475e+04   \n",
       "50%    2.105960e+05    289.000000       0.000000e+00    9.413595e+05   \n",
       "75%    2.708505e+05   1585.750000       9.684500e+03    1.968287e+06   \n",
       "max    2.670423e+07  15149.000000       3.208340e+07    3.098866e+08   \n",
       "\n",
       "       exercised_stock_options         bonus  restricted_stock  \\\n",
       "count             1.460000e+02  1.460000e+02      1.460000e+02   \n",
       "mean              4.182736e+06  1.333474e+06      1.749257e+06   \n",
       "std               2.607040e+07  8.094029e+06      1.089995e+07   \n",
       "min               0.000000e+00  0.000000e+00     -2.604490e+06   \n",
       "25%               0.000000e+00  0.000000e+00      8.115000e+03   \n",
       "50%               6.082935e+05  3.000000e+05      3.605280e+05   \n",
       "75%               1.714221e+06  8.000000e+05      8.145280e+05   \n",
       "max               3.117640e+08  9.734362e+07      1.303223e+08   \n",
       "\n",
       "       shared_receipt_with_poi  restricted_stock_deferred  total_stock_value  \\\n",
       "count               146.000000               1.460000e+02       1.460000e+02   \n",
       "mean                692.986301               2.051637e+04       5.846018e+06   \n",
       "std                1072.969492               1.439661e+06       3.624681e+07   \n",
       "min                   0.000000              -7.576788e+06      -4.409300e+04   \n",
       "25%                   0.000000               0.000000e+00       2.288695e+05   \n",
       "50%                 102.500000               0.000000e+00       9.659550e+05   \n",
       "75%                 893.500000               0.000000e+00       2.319991e+06   \n",
       "max                5521.000000               1.545629e+07       4.345095e+08   \n",
       "\n",
       "           expenses  loan_advances  from_messages         other  \\\n",
       "count  1.460000e+02   1.460000e+02     146.000000  1.460000e+02   \n",
       "mean   7.074827e+04   1.149658e+06     358.602740  5.854318e+05   \n",
       "std    4.327163e+05   9.649342e+06    1441.259868  3.682345e+06   \n",
       "min    0.000000e+00   0.000000e+00       0.000000  0.000000e+00   \n",
       "25%    0.000000e+00   0.000000e+00       0.000000  0.000000e+00   \n",
       "50%    2.018200e+04   0.000000e+00      16.500000  9.595000e+02   \n",
       "75%    5.374075e+04   0.000000e+00      51.250000  1.506065e+05   \n",
       "max    5.235198e+06   8.392500e+07   14368.000000  4.266759e+07   \n",
       "\n",
       "       from_this_person_to_poi  director_fees  deferred_income  \\\n",
       "count               146.000000   1.460000e+02     1.460000e+02   \n",
       "mean                 24.287671   1.942249e+04    -3.827622e+05   \n",
       "std                  79.278206   1.190543e+05     2.378250e+06   \n",
       "min                   0.000000   0.000000e+00    -2.799289e+07   \n",
       "25%                   0.000000   0.000000e+00    -3.792600e+04   \n",
       "50%                   0.000000   0.000000e+00     0.000000e+00   \n",
       "75%                  13.750000   0.000000e+00     0.000000e+00   \n",
       "max                 609.000000   1.398517e+06     0.000000e+00   \n",
       "\n",
       "       long_term_incentive  from_poi_to_this_person  \n",
       "count         1.460000e+02               146.000000  \n",
       "mean          6.646839e+05                38.226027  \n",
       "std           4.046072e+06                73.901124  \n",
       "min           0.000000e+00                 0.000000  \n",
       "25%           0.000000e+00                 0.000000  \n",
       "50%           0.000000e+00                 2.500000  \n",
       "75%           3.750648e+05                40.750000  \n",
       "max           4.852193e+07               528.000000  "
      ]
     },
     "execution_count": 14,
     "metadata": {},
     "output_type": "execute_result"
    }
   ],
   "source": [
    "data.describe()"
   ]
  },
  {
   "cell_type": "code",
   "execution_count": 15,
   "metadata": {
    "collapsed": false
   },
   "outputs": [
    {
     "data": {
      "image/png": "[encoded data removed]",
      "text/plain": [
       "<matplotlib.figure.Figure at 0x1155d1f50>"
      ]
     },
     "metadata": {},
     "output_type": "display_data"
    }
   ],
   "source": [
    "ax = sns.regplot(x='salary', y='bonus', data=data, fit_reg=False)"
   ]
  },
  {
   "cell_type": "code",
   "execution_count": 16,
   "metadata": {
    "collapsed": false
   },
   "outputs": [
    {
     "data": {
      "text/html": [
       "<div>\n",
       "<table border=\"1\" class=\"dataframe\">\n",
       "  <thead>\n",
       "    <tr style=\"text-align: right;\">\n",
       "      <th></th>\n",
       "      <th>salary</th>\n",
       "      <th>to_messages</th>\n",
       "      <th>deferral_payments</th>\n",
       "      <th>total_payments</th>\n",
       "      <th>exercised_stock_options</th>\n",
       "      <th>bonus</th>\n",
       "      <th>restricted_stock</th>\n",
       "      <th>shared_receipt_with_poi</th>\n",
       "      <th>restricted_stock_deferred</th>\n",
       "      <th>total_stock_value</th>\n",
       "      <th>expenses</th>\n",
       "      <th>loan_advances</th>\n",
       "      <th>from_messages</th>\n",
       "      <th>other</th>\n",
       "      <th>from_this_person_to_poi</th>\n",
       "      <th>poi</th>\n",
       "      <th>director_fees</th>\n",
       "      <th>deferred_income</th>\n",
       "      <th>long_term_incentive</th>\n",
       "      <th>from_poi_to_this_person</th>\n",
       "    </tr>\n",
       "  </thead>\n",
       "  <tbody>\n",
       "    <tr>\n",
       "      <th>TOTAL</th>\n",
       "      <td>26704229.0</td>\n",
       "      <td>0.0</td>\n",
       "      <td>32083396.0</td>\n",
       "      <td>309886585.0</td>\n",
       "      <td>311764000.0</td>\n",
       "      <td>97343619.0</td>\n",
       "      <td>130322299.0</td>\n",
       "      <td>0.0</td>\n",
       "      <td>-7576788.0</td>\n",
       "      <td>434509511.0</td>\n",
       "      <td>5235198.0</td>\n",
       "      <td>83925000.0</td>\n",
       "      <td>0.0</td>\n",
       "      <td>42667589.0</td>\n",
       "      <td>0.0</td>\n",
       "      <td>False</td>\n",
       "      <td>1398517.0</td>\n",
       "      <td>-27992891.0</td>\n",
       "      <td>48521928.0</td>\n",
       "      <td>0.0</td>\n",
       "    </tr>\n",
       "    <tr>\n",
       "      <th>SKILLING JEFFREY K</th>\n",
       "      <td>1111258.0</td>\n",
       "      <td>3627.0</td>\n",
       "      <td>0.0</td>\n",
       "      <td>8682716.0</td>\n",
       "      <td>19250000.0</td>\n",
       "      <td>5600000.0</td>\n",
       "      <td>6843672.0</td>\n",
       "      <td>2042.0</td>\n",
       "      <td>0.0</td>\n",
       "      <td>26093672.0</td>\n",
       "      <td>29336.0</td>\n",
       "      <td>0.0</td>\n",
       "      <td>108.0</td>\n",
       "      <td>22122.0</td>\n",
       "      <td>30.0</td>\n",
       "      <td>True</td>\n",
       "      <td>0.0</td>\n",
       "      <td>0.0</td>\n",
       "      <td>1920000.0</td>\n",
       "      <td>88.0</td>\n",
       "    </tr>\n",
       "    <tr>\n",
       "      <th>LAY KENNETH L</th>\n",
       "      <td>1072321.0</td>\n",
       "      <td>4273.0</td>\n",
       "      <td>202911.0</td>\n",
       "      <td>103559793.0</td>\n",
       "      <td>34348384.0</td>\n",
       "      <td>7000000.0</td>\n",
       "      <td>14761694.0</td>\n",
       "      <td>2411.0</td>\n",
       "      <td>0.0</td>\n",
       "      <td>49110078.0</td>\n",
       "      <td>99832.0</td>\n",
       "      <td>81525000.0</td>\n",
       "      <td>36.0</td>\n",
       "      <td>10359729.0</td>\n",
       "      <td>16.0</td>\n",
       "      <td>True</td>\n",
       "      <td>0.0</td>\n",
       "      <td>-300000.0</td>\n",
       "      <td>3600000.0</td>\n",
       "      <td>123.0</td>\n",
       "    </tr>\n",
       "    <tr>\n",
       "      <th>FREVERT MARK A</th>\n",
       "      <td>1060932.0</td>\n",
       "      <td>3275.0</td>\n",
       "      <td>6426990.0</td>\n",
       "      <td>17252530.0</td>\n",
       "      <td>10433518.0</td>\n",
       "      <td>2000000.0</td>\n",
       "      <td>4188667.0</td>\n",
       "      <td>2979.0</td>\n",
       "      <td>0.0</td>\n",
       "      <td>14622185.0</td>\n",
       "      <td>86987.0</td>\n",
       "      <td>2000000.0</td>\n",
       "      <td>21.0</td>\n",
       "      <td>7427621.0</td>\n",
       "      <td>6.0</td>\n",
       "      <td>False</td>\n",
       "      <td>0.0</td>\n",
       "      <td>-3367011.0</td>\n",
       "      <td>1617011.0</td>\n",
       "      <td>242.0</td>\n",
       "    </tr>\n",
       "    <tr>\n",
       "      <th>PICKERING MARK R</th>\n",
       "      <td>655037.0</td>\n",
       "      <td>898.0</td>\n",
       "      <td>0.0</td>\n",
       "      <td>1386690.0</td>\n",
       "      <td>28798.0</td>\n",
       "      <td>300000.0</td>\n",
       "      <td>0.0</td>\n",
       "      <td>728.0</td>\n",
       "      <td>0.0</td>\n",
       "      <td>28798.0</td>\n",
       "      <td>31653.0</td>\n",
       "      <td>400000.0</td>\n",
       "      <td>67.0</td>\n",
       "      <td>0.0</td>\n",
       "      <td>0.0</td>\n",
       "      <td>False</td>\n",
       "      <td>0.0</td>\n",
       "      <td>0.0</td>\n",
       "      <td>0.0</td>\n",
       "      <td>7.0</td>\n",
       "    </tr>\n",
       "  </tbody>\n",
       "</table>\n",
       "</div>"
      ],
      "text/plain": [
       "                        salary  to_messages  deferral_payments  \\\n",
       "TOTAL               26704229.0          0.0         32083396.0   \n",
       "SKILLING JEFFREY K   1111258.0       3627.0                0.0   \n",
       "LAY KENNETH L        1072321.0       4273.0           202911.0   \n",
       "FREVERT MARK A       1060932.0       3275.0          6426990.0   \n",
       "PICKERING MARK R      655037.0        898.0                0.0   \n",
       "\n",
       "                    total_payments  exercised_stock_options       bonus  \\\n",
       "TOTAL                  309886585.0              311764000.0  97343619.0   \n",
       "SKILLING JEFFREY K       8682716.0               19250000.0   5600000.0   \n",
       "LAY KENNETH L          103559793.0               34348384.0   7000000.0   \n",
       "FREVERT MARK A          17252530.0               10433518.0   2000000.0   \n",
       "PICKERING MARK R         1386690.0                  28798.0    300000.0   \n",
       "\n",
       "                    restricted_stock  shared_receipt_with_poi  \\\n",
       "TOTAL                    130322299.0                      0.0   \n",
       "SKILLING JEFFREY K         6843672.0                   2042.0   \n",
       "LAY KENNETH L             14761694.0                   2411.0   \n",
       "FREVERT MARK A             4188667.0                   2979.0   \n",
       "PICKERING MARK R                 0.0                    728.0   \n",
       "\n",
       "                    restricted_stock_deferred  total_stock_value   expenses  \\\n",
       "TOTAL                              -7576788.0        434509511.0  5235198.0   \n",
       "SKILLING JEFFREY K                        0.0         26093672.0    29336.0   \n",
       "LAY KENNETH L                             0.0         49110078.0    99832.0   \n",
       "FREVERT MARK A                            0.0         14622185.0    86987.0   \n",
       "PICKERING MARK R                          0.0            28798.0    31653.0   \n",
       "\n",
       "                    loan_advances  from_messages       other  \\\n",
       "TOTAL                  83925000.0            0.0  42667589.0   \n",
       "SKILLING JEFFREY K            0.0          108.0     22122.0   \n",
       "LAY KENNETH L          81525000.0           36.0  10359729.0   \n",
       "FREVERT MARK A          2000000.0           21.0   7427621.0   \n",
       "PICKERING MARK R         400000.0           67.0         0.0   \n",
       "\n",
       "                    from_this_person_to_poi    poi  director_fees  \\\n",
       "TOTAL                                   0.0  False      1398517.0   \n",
       "SKILLING JEFFREY K                     30.0   True            0.0   \n",
       "LAY KENNETH L                          16.0   True            0.0   \n",
       "FREVERT MARK A                          6.0  False            0.0   \n",
       "PICKERING MARK R                        0.0  False            0.0   \n",
       "\n",
       "                    deferred_income  long_term_incentive  \\\n",
       "TOTAL                   -27992891.0           48521928.0   \n",
       "SKILLING JEFFREY K              0.0            1920000.0   \n",
       "LAY KENNETH L             -300000.0            3600000.0   \n",
       "FREVERT MARK A           -3367011.0            1617011.0   \n",
       "PICKERING MARK R                0.0                  0.0   \n",
       "\n",
       "                    from_poi_to_this_person  \n",
       "TOTAL                                   0.0  \n",
       "SKILLING JEFFREY K                     88.0  \n",
       "LAY KENNETH L                         123.0  \n",
       "FREVERT MARK A                        242.0  \n",
       "PICKERING MARK R                        7.0  "
      ]
     },
     "execution_count": 16,
     "metadata": {},
     "output_type": "execute_result"
    }
   ],
   "source": [
    "data.sort_values('salary', ascending=False).head()"
   ]
  },
  {
   "cell_type": "code",
   "execution_count": 17,
   "metadata": {
    "collapsed": false
   },
   "outputs": [],
   "source": [
    "data = data.drop(['TOTAL'])"
   ]
  },
  {
   "cell_type": "code",
   "execution_count": 18,
   "metadata": {
    "collapsed": false,
    "scrolled": true
   },
   "outputs": [
    {
     "data": {
      "text/html": [
       "<div>\n",
       "<table border=\"1\" class=\"dataframe\">\n",
       "  <thead>\n",
       "    <tr style=\"text-align: right;\">\n",
       "      <th></th>\n",
       "      <th>salary</th>\n",
       "      <th>to_messages</th>\n",
       "      <th>deferral_payments</th>\n",
       "      <th>total_payments</th>\n",
       "      <th>exercised_stock_options</th>\n",
       "      <th>bonus</th>\n",
       "      <th>restricted_stock</th>\n",
       "      <th>shared_receipt_with_poi</th>\n",
       "      <th>restricted_stock_deferred</th>\n",
       "      <th>total_stock_value</th>\n",
       "      <th>expenses</th>\n",
       "      <th>loan_advances</th>\n",
       "      <th>from_messages</th>\n",
       "      <th>other</th>\n",
       "      <th>from_this_person_to_poi</th>\n",
       "      <th>poi</th>\n",
       "      <th>director_fees</th>\n",
       "      <th>deferred_income</th>\n",
       "      <th>long_term_incentive</th>\n",
       "      <th>from_poi_to_this_person</th>\n",
       "    </tr>\n",
       "  </thead>\n",
       "  <tbody>\n",
       "    <tr>\n",
       "      <th>ALLEN PHILLIP K</th>\n",
       "      <td>201955.0</td>\n",
       "      <td>2902.0</td>\n",
       "      <td>2869717.0</td>\n",
       "      <td>4484442.0</td>\n",
       "      <td>1729541.0</td>\n",
       "      <td>4175000.0</td>\n",
       "      <td>126027.0</td>\n",
       "      <td>1407.0</td>\n",
       "      <td>-126027.0</td>\n",
       "      <td>1729541.0</td>\n",
       "      <td>13868.0</td>\n",
       "      <td>0.0</td>\n",
       "      <td>2195.0</td>\n",
       "      <td>152.0</td>\n",
       "      <td>65.0</td>\n",
       "      <td>False</td>\n",
       "      <td>0.0</td>\n",
       "      <td>-3081055.0</td>\n",
       "      <td>304805.0</td>\n",
       "      <td>47.0</td>\n",
       "    </tr>\n",
       "    <tr>\n",
       "      <th>BADUM JAMES P</th>\n",
       "      <td>0.0</td>\n",
       "      <td>0.0</td>\n",
       "      <td>178980.0</td>\n",
       "      <td>182466.0</td>\n",
       "      <td>257817.0</td>\n",
       "      <td>0.0</td>\n",
       "      <td>0.0</td>\n",
       "      <td>0.0</td>\n",
       "      <td>0.0</td>\n",
       "      <td>257817.0</td>\n",
       "      <td>3486.0</td>\n",
       "      <td>0.0</td>\n",
       "      <td>0.0</td>\n",
       "      <td>0.0</td>\n",
       "      <td>0.0</td>\n",
       "      <td>False</td>\n",
       "      <td>0.0</td>\n",
       "      <td>0.0</td>\n",
       "      <td>0.0</td>\n",
       "      <td>0.0</td>\n",
       "    </tr>\n",
       "    <tr>\n",
       "      <th>BANNANTINE JAMES M</th>\n",
       "      <td>477.0</td>\n",
       "      <td>566.0</td>\n",
       "      <td>0.0</td>\n",
       "      <td>916197.0</td>\n",
       "      <td>4046157.0</td>\n",
       "      <td>0.0</td>\n",
       "      <td>1757552.0</td>\n",
       "      <td>465.0</td>\n",
       "      <td>-560222.0</td>\n",
       "      <td>5243487.0</td>\n",
       "      <td>56301.0</td>\n",
       "      <td>0.0</td>\n",
       "      <td>29.0</td>\n",
       "      <td>864523.0</td>\n",
       "      <td>0.0</td>\n",
       "      <td>False</td>\n",
       "      <td>0.0</td>\n",
       "      <td>-5104.0</td>\n",
       "      <td>0.0</td>\n",
       "      <td>39.0</td>\n",
       "    </tr>\n",
       "    <tr>\n",
       "      <th>BAXTER JOHN C</th>\n",
       "      <td>267102.0</td>\n",
       "      <td>0.0</td>\n",
       "      <td>1295738.0</td>\n",
       "      <td>5634343.0</td>\n",
       "      <td>6680544.0</td>\n",
       "      <td>1200000.0</td>\n",
       "      <td>3942714.0</td>\n",
       "      <td>0.0</td>\n",
       "      <td>0.0</td>\n",
       "      <td>10623258.0</td>\n",
       "      <td>11200.0</td>\n",
       "      <td>0.0</td>\n",
       "      <td>0.0</td>\n",
       "      <td>2660303.0</td>\n",
       "      <td>0.0</td>\n",
       "      <td>False</td>\n",
       "      <td>0.0</td>\n",
       "      <td>-1386055.0</td>\n",
       "      <td>1586055.0</td>\n",
       "      <td>0.0</td>\n",
       "    </tr>\n",
       "    <tr>\n",
       "      <th>BAY FRANKLIN R</th>\n",
       "      <td>239671.0</td>\n",
       "      <td>0.0</td>\n",
       "      <td>260455.0</td>\n",
       "      <td>827696.0</td>\n",
       "      <td>0.0</td>\n",
       "      <td>400000.0</td>\n",
       "      <td>145796.0</td>\n",
       "      <td>0.0</td>\n",
       "      <td>-82782.0</td>\n",
       "      <td>63014.0</td>\n",
       "      <td>129142.0</td>\n",
       "      <td>0.0</td>\n",
       "      <td>0.0</td>\n",
       "      <td>69.0</td>\n",
       "      <td>0.0</td>\n",
       "      <td>False</td>\n",
       "      <td>0.0</td>\n",
       "      <td>-201641.0</td>\n",
       "      <td>0.0</td>\n",
       "      <td>0.0</td>\n",
       "    </tr>\n",
       "  </tbody>\n",
       "</table>\n",
       "</div>"
      ],
      "text/plain": [
       "                      salary  to_messages  deferral_payments  total_payments  \\\n",
       "ALLEN PHILLIP K     201955.0       2902.0          2869717.0       4484442.0   \n",
       "BADUM JAMES P            0.0          0.0           178980.0        182466.0   \n",
       "BANNANTINE JAMES M     477.0        566.0                0.0        916197.0   \n",
       "BAXTER JOHN C       267102.0          0.0          1295738.0       5634343.0   \n",
       "BAY FRANKLIN R      239671.0          0.0           260455.0        827696.0   \n",
       "\n",
       "                    exercised_stock_options      bonus  restricted_stock  \\\n",
       "ALLEN PHILLIP K                   1729541.0  4175000.0          126027.0   \n",
       "BADUM JAMES P                      257817.0        0.0               0.0   \n",
       "BANNANTINE JAMES M                4046157.0        0.0         1757552.0   \n",
       "BAXTER JOHN C                     6680544.0  1200000.0         3942714.0   \n",
       "BAY FRANKLIN R                          0.0   400000.0          145796.0   \n",
       "\n",
       "                    shared_receipt_with_poi  restricted_stock_deferred  \\\n",
       "ALLEN PHILLIP K                      1407.0                  -126027.0   \n",
       "BADUM JAMES P                           0.0                        0.0   \n",
       "BANNANTINE JAMES M                    465.0                  -560222.0   \n",
       "BAXTER JOHN C                           0.0                        0.0   \n",
       "BAY FRANKLIN R                          0.0                   -82782.0   \n",
       "\n",
       "                    total_stock_value  expenses  loan_advances  from_messages  \\\n",
       "ALLEN PHILLIP K             1729541.0   13868.0            0.0         2195.0   \n",
       "BADUM JAMES P                257817.0    3486.0            0.0            0.0   \n",
       "BANNANTINE JAMES M          5243487.0   56301.0            0.0           29.0   \n",
       "BAXTER JOHN C              10623258.0   11200.0            0.0            0.0   \n",
       "BAY FRANKLIN R                63014.0  129142.0            0.0            0.0   \n",
       "\n",
       "                        other  from_this_person_to_poi    poi  director_fees  \\\n",
       "ALLEN PHILLIP K         152.0                     65.0  False            0.0   \n",
       "BADUM JAMES P             0.0                      0.0  False            0.0   \n",
       "BANNANTINE JAMES M   864523.0                      0.0  False            0.0   \n",
       "BAXTER JOHN C       2660303.0                      0.0  False            0.0   \n",
       "BAY FRANKLIN R           69.0                      0.0  False            0.0   \n",
       "\n",
       "                    deferred_income  long_term_incentive  \\\n",
       "ALLEN PHILLIP K          -3081055.0             304805.0   \n",
       "BADUM JAMES P                   0.0                  0.0   \n",
       "BANNANTINE JAMES M          -5104.0                  0.0   \n",
       "BAXTER JOHN C            -1386055.0            1586055.0   \n",
       "BAY FRANKLIN R            -201641.0                  0.0   \n",
       "\n",
       "                    from_poi_to_this_person  \n",
       "ALLEN PHILLIP K                        47.0  \n",
       "BADUM JAMES P                           0.0  \n",
       "BANNANTINE JAMES M                     39.0  \n",
       "BAXTER JOHN C                           0.0  \n",
       "BAY FRANKLIN R                          0.0  "
      ]
     },
     "execution_count": 18,
     "metadata": {},
     "output_type": "execute_result"
    }
   ],
   "source": [
    "# By reading the provided pdf, drop two more rows\n",
    "data = data.drop(['THE TRAVEL AGENCY IN THE PARK', 'LOCKHART EUGENE E'])\n",
    "data.head()"
   ]
  },
  {
   "cell_type": "code",
   "execution_count": 20,
   "metadata": {
    "collapsed": false
   },
   "outputs": [],
   "source": [
    "# Add new features\n",
    "data['poi_to_this_person_ratio'] = np.where(data['to_messages'] > 0, data['from_poi_to_this_person']/data['to_messages'], data['to_messages'])\n",
    "data['this_person_to_poi_ratio'] = np.where(data['from_messages'] > 0, data['from_this_person_to_poi']/data['from_messages'], data['from_messages'])"
   ]
  },
  {
   "cell_type": "code",
   "execution_count": 21,
   "metadata": {
    "collapsed": false
   },
   "outputs": [],
   "source": [
    "# From dataframe to dict\n",
    "data_dict = data.to_dict(orient='index')"
   ]
  },
  {
   "cell_type": "code",
   "execution_count": 22,
   "metadata": {
    "collapsed": false
   },
   "outputs": [],
   "source": [
    "features_list = ['poi', 'salary', 'deferral_payments', 'total_payments', 'loan_advances',\n",
    "                 'bonus', 'restricted_stock_deferred', 'deferred_income', 'total_stock_value',\n",
    "                 'expenses', 'exercised_stock_options', 'long_term_incentive',\n",
    "                 'restricted_stock', 'director_fees', 'to_messages', 'from_poi_to_this_person',\n",
    "                 'from_messages', 'from_this_person_to_poi', 'shared_receipt_with_poi', 'other',\n",
    "                 'poi_to_this_person_ratio', 'this_person_to_poi_ratio']\n",
    "\n",
    "### Store to my_dataset for easy export below.\n",
    "my_dataset = data_dict\n",
    "\n",
    "### Extract features and labels from dataset for local testing\n",
    "data = featureFormat(my_dataset, features_list, sort_keys = True)\n",
    "labels, features = targetFeatureSplit(data)"
   ]
  },
  {
   "cell_type": "markdown",
   "metadata": {},
   "source": [
    "The following sections contain the details of our analysis. We tried and tuned params for different classifiers."
   ]
  },
  {
   "cell_type": "code",
   "execution_count": 126,
   "metadata": {
    "collapsed": false
   },
   "outputs": [
    {
     "data": {
      "text/plain": [
       "GridSearchCV(cv=StratifiedShuffleSplit(n_splits=100, random_state=42, test_size=0.3,\n",
       "            train_size=None),\n",
       "       error_score='raise',\n",
       "       estimator=Pipeline(steps=[('minmax_scaler', MinMaxScaler(copy=True, feature_range=(0, 1))), ('feature_selection', SelectKBest(k=10, score_func=<function f_classif at 0x114fcd9b0>)), ('logistic_reg', LogisticRegression(C=1.0, class_weight=None, dual=False, fit_intercept=True,\n",
       "          intercept_scaling=1, max_iter=100, multi_class='ovr', n_jobs=1,\n",
       "          penalty='l2', random_state=None, solver='liblinear', tol=0.0001,\n",
       "          verbose=0, warm_start=False))]),\n",
       "       fit_params={}, iid=True, n_jobs=1,\n",
       "       param_grid={'logistic_reg__solver': ['liblinear'], 'logistic_reg__random_state': [42], 'feature_selection__k': [5, 6, 7, 8, 9, 10, 11], 'logistic_reg__class_weight': ['balanced'], 'logistic_reg__C': [1, 2, 3, 4]},\n",
       "       pre_dispatch='2*n_jobs', refit=True, return_train_score=True,\n",
       "       scoring='f1', verbose=0)"
      ]
     },
     "execution_count": 126,
     "metadata": {},
     "output_type": "execute_result"
    }
   ],
   "source": [
    "sss = StratifiedShuffleSplit(n_splits=100, test_size=0.3, random_state=42)\n",
    "\n",
    "# 1. Logistic_Regression\n",
    "# Use SelectKBest to select features\n",
    "kbest = SelectKBest()\n",
    "scaler = MinMaxScaler()\n",
    "\n",
    "classifier = LogisticRegression()\n",
    "\n",
    "pipeline = Pipeline(steps=[('minmax_scaler', scaler), ('feature_selection', kbest), ('logistic_reg', classifier)])\n",
    "\n",
    "parameters = dict(logistic_reg__class_weight=['balanced'],\n",
    "                          logistic_reg__solver=['liblinear'],\n",
    "                          logistic_reg__C=range(1, 5),\n",
    "                          logistic_reg__random_state=[42],\n",
    "                          feature_selection__k=range(5,12))\n",
    "\n",
    "cv_lg = GridSearchCV(pipeline, param_grid=parameters, scoring='f1', cv=sss)\n",
    "cv_lg.fit(features, labels)"
   ]
  },
  {
   "cell_type": "code",
   "execution_count": 127,
   "metadata": {
    "collapsed": false
   },
   "outputs": [
    {
     "data": {
      "text/plain": [
       "{'feature_selection__k': 6,\n",
       " 'logistic_reg__C': 1,\n",
       " 'logistic_reg__class_weight': 'balanced',\n",
       " 'logistic_reg__random_state': 42,\n",
       " 'logistic_reg__solver': 'liblinear'}"
      ]
     },
     "execution_count": 127,
     "metadata": {},
     "output_type": "execute_result"
    }
   ],
   "source": [
    "cv_lg.best_params_"
   ]
  },
  {
   "cell_type": "code",
   "execution_count": 128,
   "metadata": {
    "collapsed": false
   },
   "outputs": [
    {
     "name": "stdout",
     "output_type": "stream",
     "text": [
      "Pipeline(steps=[('minmax_scaler', MinMaxScaler(copy=True, feature_range=(0, 1))), ('feature_selection', SelectKBest(k=6, score_func=<function f_classif at 0x114fcd9b0>)), ('logistic_reg', LogisticRegression(C=1, class_weight='balanced', dual=False,\n",
      "          fit_intercept=True, intercept_scaling=1, max_iter=100,\n",
      "          multi_class='ovr', n_jobs=1, penalty='l2', random_state=42,\n",
      "          solver='liblinear', tol=0.0001, verbose=0, warm_start=False))])\n",
      "\tAccuracy: 0.76747\tPrecision: 0.30234\tRecall: 0.56900\tF1: 0.39486\tF2: 0.48368\n",
      "\tTotal predictions: 15000\tTrue positives: 1138\tFalse positives: 2626\tFalse negatives:  862\tTrue negatives: 10374\n",
      "\n"
     ]
    }
   ],
   "source": [
    "test_classifier(cv_lg.best_estimator_, my_dataset, features_list)"
   ]
  },
  {
   "cell_type": "code",
   "execution_count": 182,
   "metadata": {
    "collapsed": false
   },
   "outputs": [
    {
     "data": {
      "text/plain": [
       "GridSearchCV(cv=StratifiedShuffleSplit(n_splits=100, random_state=42, test_size=0.3,\n",
       "            train_size=None),\n",
       "       error_score='raise',\n",
       "       estimator=Pipeline(steps=[('minmax_scaler', MinMaxScaler(copy=True, feature_range=(0, 1))), ('feature_selection', SelectKBest(k=10, score_func=<function f_classif at 0x114fcd9b0>)), ('decision_tree', DecisionTreeClassifier(class_weight=None, criterion='gini', max_depth=None,\n",
       "            max_features...t=2, min_weight_fraction_leaf=0.0,\n",
       "            presort=False, random_state=None, splitter='best'))]),\n",
       "       fit_params={}, iid=True, n_jobs=1,\n",
       "       param_grid={'decision_tree__max_depth': [2], 'decision_tree__random_state': [42], 'decision_tree__criterion': ['gini'], 'feature_selection__k': [16], 'decision_tree__class_weight': ['balanced'], 'decision_tree__min_samples_leaf': [4]},\n",
       "       pre_dispatch='2*n_jobs', refit=True, return_train_score=True,\n",
       "       scoring='f1', verbose=0)"
      ]
     },
     "execution_count": 182,
     "metadata": {},
     "output_type": "execute_result"
    }
   ],
   "source": [
    "# ---------------------------------------------------\n",
    "# 2. Decision Trees\n",
    "# SelectKBest\n",
    "classifier = DecisionTreeClassifier()\n",
    "\n",
    "pipeline = Pipeline(steps=[('minmax_scaler', scaler), ('feature_selection', kbest), ('decision_tree', classifier)])\n",
    "\n",
    "# parameters = dict(decision_tree__min_samples_leaf=range(1, 5),\n",
    "#                           decision_tree__max_depth=range(1, 10),\n",
    "#                           decision_tree__class_weight=['balanced'],\n",
    "#                           decision_tree__criterion=['gini', 'entropy'],\n",
    "#                           decision_tree__random_state=[42],\n",
    "#                           feature_selection__k=range(8,12))\n",
    "\n",
    "parameters = dict(decision_tree__min_samples_leaf=[4],\n",
    "                          decision_tree__max_depth=[2],\n",
    "                          decision_tree__class_weight=['balanced'],\n",
    "                          decision_tree__criterion=['gini'],\n",
    "                          decision_tree__random_state=[42],\n",
    "                          feature_selection__k=[16])\n",
    "\n",
    "cv_dt = GridSearchCV(pipeline, param_grid=parameters, scoring='f1', cv=sss)\n",
    "cv_dt.fit(features, labels)"
   ]
  },
  {
   "cell_type": "code",
   "execution_count": 183,
   "metadata": {
    "collapsed": false
   },
   "outputs": [
    {
     "data": {
      "text/plain": [
       "{'decision_tree__class_weight': 'balanced',\n",
       " 'decision_tree__criterion': 'gini',\n",
       " 'decision_tree__max_depth': 2,\n",
       " 'decision_tree__min_samples_leaf': 4,\n",
       " 'decision_tree__random_state': 42,\n",
       " 'feature_selection__k': 16}"
      ]
     },
     "execution_count": 183,
     "metadata": {},
     "output_type": "execute_result"
    }
   ],
   "source": [
    "cv_dt.best_params_"
   ]
  },
  {
   "cell_type": "code",
   "execution_count": 184,
   "metadata": {
    "collapsed": false
   },
   "outputs": [
    {
     "name": "stdout",
     "output_type": "stream",
     "text": [
      "Pipeline(steps=[('minmax_scaler', MinMaxScaler(copy=True, feature_range=(0, 1))), ('feature_selection', SelectKBest(k=16, score_func=<function f_classif at 0x114fcd9b0>)), ('decision_tree', DecisionTreeClassifier(class_weight='balanced', criterion='gini', max_depth=2,\n",
      "            max_features=None, max_leaf_nodes=None,\n",
      "            min_impurity_split=1e-07, min_samples_leaf=4,\n",
      "            min_samples_split=2, min_weight_fraction_leaf=0.0,\n",
      "            presort=False, random_state=42, splitter='best'))])\n",
      "\tAccuracy: 0.78260\tPrecision: 0.34194\tRecall: 0.68200\tF1: 0.45550\tF2: 0.56885\n",
      "\tTotal predictions: 15000\tTrue positives: 1364\tFalse positives: 2625\tFalse negatives:  636\tTrue negatives: 10375\n",
      "\n"
     ]
    }
   ],
   "source": [
    "test_classifier(cv_dt.best_estimator_, my_dataset, features_list)"
   ]
  },
  {
   "cell_type": "code",
   "execution_count": 186,
   "metadata": {
    "collapsed": false
   },
   "outputs": [
    {
     "name": "stdout",
     "output_type": "stream",
     "text": [
      "['salary', 'total_payments', 'bonus', 'restricted_stock_deferred', 'deferred_income', 'total_stock_value', 'expenses', 'exercised_stock_options', 'long_term_incentive', 'restricted_stock', 'director_fees', 'from_poi_to_this_person', 'from_this_person_to_poi', 'shared_receipt_with_poi', 'poi_to_this_person_ratio', 'this_person_to_poi_ratio']\n",
      "salary score: 11.196268\n",
      "total_payments score: 2.767899\n",
      "bonus score: 11.129479\n",
      "restricted_stock_deferred score: 0.763457\n",
      "deferred_income score: 5.304059\n",
      "total_stock_value score: 14.691309\n",
      "expenses score: 5.906223\n",
      "exercised_stock_options score: 13.714021\n",
      "long_term_incentive score: 2.611274\n",
      "restricted_stock score: 6.576949\n",
      "director_fees score: 1.796428\n",
      "from_poi_to_this_person score: 3.590680\n",
      "from_this_person_to_poi score: 2.143841\n",
      "shared_receipt_with_poi score: 5.495321\n",
      "poi_to_this_person_ratio score: 2.349338\n",
      "this_person_to_poi_ratio score: 8.243016\n"
     ]
    }
   ],
   "source": [
    "feature_indices = cv_dt.best_estimator_.named_steps[\"feature_selection\"].get_support(indices=True)\n",
    "feature_scores = cv_dt.best_estimator_.named_steps[\"feature_selection\"].scores_\n",
    "#print feature_indices\n",
    "final_features_list = [features_list[i + 1] for i in feature_indices]\n",
    "print final_features_list\n",
    "for index in feature_indices:\n",
    "    print '%s score: %f' % (features_list[index + 1], feature_scores[index])"
   ]
  },
  {
   "cell_type": "code",
   "execution_count": 142,
   "metadata": {
    "collapsed": false
   },
   "outputs": [
    {
     "data": {
      "text/plain": [
       "GridSearchCV(cv=StratifiedShuffleSplit(n_splits=100, random_state=42, test_size=0.3,\n",
       "            train_size=None),\n",
       "       error_score='raise',\n",
       "       estimator=Pipeline(steps=[('minmax_scaler', StandardScaler(copy=True, with_mean=True, with_std=True)), ('feature_selection', SelectKBest(k=10, score_func=<function f_classif at 0x114fcd9b0>)), ('decision_tree', RandomForestClassifier(bootstrap=True, class_weight=None, criterion='gini',\n",
       "            max_depth=None, max_...imators=10, n_jobs=1, oob_score=False, random_state=None,\n",
       "            verbose=0, warm_start=False))]),\n",
       "       fit_params={}, iid=True, n_jobs=1,\n",
       "       param_grid={'decision_tree__max_depth': [1, 2], 'decision_tree__random_state': [42], 'decision_tree__criterion': ['gini'], 'feature_selection__k': [17, 18, 19], 'decision_tree__class_weight': ['balanced'], 'decision_tree__min_samples_leaf': [1, 2, 3, 4]},\n",
       "       pre_dispatch='2*n_jobs', refit=True, return_train_score=True,\n",
       "       scoring='f1', verbose=0)"
      ]
     },
     "execution_count": 142,
     "metadata": {},
     "output_type": "execute_result"
    }
   ],
   "source": [
    "# Decision Tree\n",
    "# Feature scaling\n",
    "# standardscaler\n",
    "from sklearn.preprocessing import StandardScaler\n",
    "stand_scaler = StandardScaler()\n",
    "\n",
    "pipeline = Pipeline(steps=[('minmax_scaler', stand_scaler), ('feature_selection', kbest), ('decision_tree', classifier)])\n",
    "\n",
    "# parameters = dict(decision_tree__min_samples_leaf=range(1, 5),\n",
    "#                           decision_tree__max_depth=range(1, 10),\n",
    "#                           decision_tree__class_weight=['balanced'],\n",
    "#                           decision_tree__criterion=['gini', 'entropy'],\n",
    "#                           decision_tree__random_state=[42],\n",
    "#                           feature_selection__k=range(8,12))\n",
    "\n",
    "parameters = dict(decision_tree__min_samples_leaf=range(1, 5),\n",
    "                          decision_tree__max_depth=range(1, 3),\n",
    "                          decision_tree__class_weight=['balanced'],\n",
    "                          decision_tree__criterion=['gini'],\n",
    "                          decision_tree__random_state=[42],\n",
    "                          feature_selection__k=range(17, 20))\n",
    "\n",
    "cv_dt = GridSearchCV(pipeline, param_grid=parameters, scoring='f1', cv=sss)\n",
    "cv_dt.fit(features, labels)"
   ]
  },
  {
   "cell_type": "code",
   "execution_count": 143,
   "metadata": {
    "collapsed": false
   },
   "outputs": [
    {
     "data": {
      "text/plain": [
       "{'decision_tree__class_weight': 'balanced',\n",
       " 'decision_tree__criterion': 'gini',\n",
       " 'decision_tree__max_depth': 1,\n",
       " 'decision_tree__min_samples_leaf': 4,\n",
       " 'decision_tree__random_state': 42,\n",
       " 'feature_selection__k': 17}"
      ]
     },
     "execution_count": 143,
     "metadata": {},
     "output_type": "execute_result"
    }
   ],
   "source": [
    "cv_dt.best_params_"
   ]
  },
  {
   "cell_type": "code",
   "execution_count": 144,
   "metadata": {
    "collapsed": false
   },
   "outputs": [
    {
     "name": "stdout",
     "output_type": "stream",
     "text": [
      "Pipeline(steps=[('minmax_scaler', StandardScaler(copy=True, with_mean=True, with_std=True)), ('feature_selection', SelectKBest(k=17, score_func=<function f_classif at 0x114fcd9b0>)), ('decision_tree', RandomForestClassifier(bootstrap=True, class_weight='balanced',\n",
      "            criterion='gini', max_depth=1, m...stimators=10, n_jobs=1,\n",
      "            oob_score=False, random_state=42, verbose=0, warm_start=False))])\n",
      "\tAccuracy: 0.79480\tPrecision: 0.34670\tRecall: 0.60950\tF1: 0.44199\tF2: 0.52926\n",
      "\tTotal predictions: 15000\tTrue positives: 1219\tFalse positives: 2297\tFalse negatives:  781\tTrue negatives: 10703\n",
      "\n"
     ]
    }
   ],
   "source": [
    "test_classifier(cv_dt.best_estimator_, my_dataset, features_list)"
   ]
  },
  {
   "cell_type": "code",
   "execution_count": 145,
   "metadata": {
    "collapsed": false
   },
   "outputs": [
    {
     "data": {
      "text/plain": [
       "GridSearchCV(cv=StratifiedShuffleSplit(n_splits=100, random_state=42, test_size=0.3,\n",
       "            train_size=None),\n",
       "       error_score='raise',\n",
       "       estimator=Pipeline(steps=[('feature_selection', SelectKBest(k=10, score_func=<function f_classif at 0x114fcd9b0>)), ('decision_tree', RandomForestClassifier(bootstrap=True, class_weight=None, criterion='gini',\n",
       "            max_depth=None, max_features='auto', max_leaf_nodes=None,\n",
       "            min_impu...mators=10, n_jobs=1, oob_score=False, random_state=None,\n",
       "            verbose=0, warm_start=False))]),\n",
       "       fit_params={}, iid=True, n_jobs=1,\n",
       "       param_grid={'decision_tree__max_depth': [1, 2], 'decision_tree__random_state': [42], 'decision_tree__criterion': ['gini'], 'feature_selection__k': [17, 18, 19], 'decision_tree__class_weight': ['balanced'], 'decision_tree__min_samples_leaf': [1, 2, 3, 4]},\n",
       "       pre_dispatch='2*n_jobs', refit=True, return_train_score=True,\n",
       "       scoring='f1', verbose=0)"
      ]
     },
     "execution_count": 145,
     "metadata": {},
     "output_type": "execute_result"
    }
   ],
   "source": [
    "# Decision Tree\n",
    "# Feature scaling\n",
    "# No scaling\n",
    "pipeline = Pipeline(steps=[('feature_selection', kbest), ('decision_tree', classifier)])\n",
    "\n",
    "# parameters = dict(decision_tree__min_samples_leaf=range(1, 5),\n",
    "#                           decision_tree__max_depth=range(1, 10),\n",
    "#                           decision_tree__class_weight=['balanced'],\n",
    "#                           decision_tree__criterion=['gini', 'entropy'],\n",
    "#                           decision_tree__random_state=[42],\n",
    "#                           feature_selection__k=range(8,12))\n",
    "\n",
    "parameters = dict(decision_tree__min_samples_leaf=range(1, 5),\n",
    "                          decision_tree__max_depth=range(1, 3),\n",
    "                          decision_tree__class_weight=['balanced'],\n",
    "                          decision_tree__criterion=['gini'],\n",
    "                          decision_tree__random_state=[42],\n",
    "                          feature_selection__k=range(16, 18))\n",
    "\n",
    "cv_dt = GridSearchCV(pipeline, param_grid=parameters, scoring='f1', cv=sss)\n",
    "cv_dt.fit(features, labels)"
   ]
  },
  {
   "cell_type": "code",
   "execution_count": 146,
   "metadata": {
    "collapsed": false
   },
   "outputs": [
    {
     "data": {
      "text/plain": [
       "{'decision_tree__class_weight': 'balanced',\n",
       " 'decision_tree__criterion': 'gini',\n",
       " 'decision_tree__max_depth': 1,\n",
       " 'decision_tree__min_samples_leaf': 4,\n",
       " 'decision_tree__random_state': 42,\n",
       " 'feature_selection__k': 17}"
      ]
     },
     "execution_count": 146,
     "metadata": {},
     "output_type": "execute_result"
    }
   ],
   "source": [
    "cv_dt.best_params_"
   ]
  },
  {
   "cell_type": "code",
   "execution_count": 147,
   "metadata": {
    "collapsed": false
   },
   "outputs": [
    {
     "name": "stdout",
     "output_type": "stream",
     "text": [
      "Pipeline(steps=[('feature_selection', SelectKBest(k=17, score_func=<function f_classif at 0x114fcd9b0>)), ('decision_tree', RandomForestClassifier(bootstrap=True, class_weight='balanced',\n",
      "            criterion='gini', max_depth=1, max_features='auto',\n",
      "            max_leaf_nodes=None, min_impurity_split=1e-07,\n",
      "            min_samples_leaf=4, min_samples_split=2,\n",
      "            min_weight_fraction_leaf=0.0, n_estimators=10, n_jobs=1,\n",
      "            oob_score=False, random_state=42, verbose=0, warm_start=False))])\n",
      "\tAccuracy: 0.79487\tPrecision: 0.34680\tRecall: 0.60950\tF1: 0.44207\tF2: 0.52931\n",
      "\tTotal predictions: 15000\tTrue positives: 1219\tFalse positives: 2296\tFalse negatives:  781\tTrue negatives: 10704\n",
      "\n"
     ]
    }
   ],
   "source": [
    "test_classifier(cv_dt.best_estimator_, my_dataset, features_list)"
   ]
  },
  {
   "cell_type": "code",
   "execution_count": 155,
   "metadata": {
    "collapsed": false
   },
   "outputs": [
    {
     "data": {
      "text/plain": [
       "GridSearchCV(cv=StratifiedShuffleSplit(n_splits=100, random_state=42, test_size=0.3,\n",
       "            train_size=None),\n",
       "       error_score='raise',\n",
       "       estimator=Pipeline(steps=[('minmax_scaler', MinMaxScaler(copy=True, feature_range=(0, 1))), ('feature_selection', PCA(copy=True, iterated_power='auto', n_components=None, random_state=None,\n",
       "  svd_solver='auto', tol=0.0, whiten=False)), ('decision_tree', RandomForestClassifier(bootstrap=True, class_weight=None, criteri...imators=10, n_jobs=1, oob_score=False, random_state=None,\n",
       "            verbose=0, warm_start=False))]),\n",
       "       fit_params={}, iid=True, n_jobs=1,\n",
       "       param_grid={'decision_tree__max_depth': [1, 2, 3, 4], 'decision_tree__random_state': [42], 'feature_selection__n_components': [2, 3], 'feature_selection__random_state': [42], 'decision_tree__criterion': ['gini', 'entropy'], 'decision_tree__class_weight': ['balanced'], 'decision_tree__min_samples_leaf': [1, 2, 3, 4]},\n",
       "       pre_dispatch='2*n_jobs', refit=True, return_train_score=True,\n",
       "       scoring='f1', verbose=0)"
      ]
     },
     "execution_count": 155,
     "metadata": {},
     "output_type": "execute_result"
    }
   ],
   "source": [
    "# PCA\n",
    "pipeline = Pipeline(steps=[('minmax_scaler', scaler), ('feature_selection', pca), ('decision_tree', classifier)])\n",
    "\n",
    "parameters = dict(decision_tree__min_samples_leaf=range(1, 5),\n",
    "                          decision_tree__max_depth=range(1, 5),\n",
    "                          decision_tree__class_weight=['balanced'],\n",
    "                          decision_tree__criterion=['gini', 'entropy'],\n",
    "                          decision_tree__random_state=[42],\n",
    "                          feature_selection__random_state=[42],\n",
    "                          feature_selection__n_components=[2, 3])\n",
    "\n",
    "cv = GridSearchCV(pipeline, param_grid=parameters, scoring='f1', cv=sss)\n",
    "cv.fit(features, labels)"
   ]
  },
  {
   "cell_type": "code",
   "execution_count": 156,
   "metadata": {
    "collapsed": false
   },
   "outputs": [
    {
     "data": {
      "text/plain": [
       "{'decision_tree__class_weight': 'balanced',\n",
       " 'decision_tree__criterion': 'gini',\n",
       " 'decision_tree__max_depth': 2,\n",
       " 'decision_tree__min_samples_leaf': 4,\n",
       " 'decision_tree__random_state': 42,\n",
       " 'feature_selection__n_components': 2,\n",
       " 'feature_selection__random_state': 42}"
      ]
     },
     "execution_count": 156,
     "metadata": {},
     "output_type": "execute_result"
    }
   ],
   "source": [
    "cv_dt_pca = cv\n",
    "cv_dt_pca.best_params_"
   ]
  },
  {
   "cell_type": "code",
   "execution_count": 157,
   "metadata": {
    "collapsed": false
   },
   "outputs": [
    {
     "name": "stdout",
     "output_type": "stream",
     "text": [
      "Pipeline(steps=[('minmax_scaler', MinMaxScaler(copy=True, feature_range=(0, 1))), ('feature_selection', PCA(copy=True, iterated_power='auto', n_components=2, random_state=42,\n",
      "  svd_solver='auto', tol=0.0, whiten=False)), ('decision_tree', RandomForestClassifier(bootstrap=True, class_weight='balanced',\n",
      "      ...stimators=10, n_jobs=1,\n",
      "            oob_score=False, random_state=42, verbose=0, warm_start=False))])\n",
      "\tAccuracy: 0.72627\tPrecision: 0.28957\tRecall: 0.72450\tF1: 0.41376\tF2: 0.55714\n",
      "\tTotal predictions: 15000\tTrue positives: 1449\tFalse positives: 3555\tFalse negatives:  551\tTrue negatives: 9445\n",
      "\n"
     ]
    }
   ],
   "source": [
    "test_classifier(cv_dt_pca.best_estimator_, my_dataset, features_list)"
   ]
  },
  {
   "cell_type": "code",
   "execution_count": 86,
   "metadata": {
    "collapsed": false
   },
   "outputs": [
    {
     "data": {
      "text/plain": [
       "GridSearchCV(cv=StratifiedShuffleSplit(n_splits=100, random_state=42, test_size=0.3,\n",
       "            train_size=None),\n",
       "       error_score='raise',\n",
       "       estimator=Pipeline(steps=[('minmax_scaler', MinMaxScaler(copy=True, feature_range=(0, 1))), ('feature_selection', SelectKBest(k=10, score_func=<function f_classif at 0x114fcd9b0>)), ('svc', SVC(C=1.0, cache_size=200, class_weight=None, coef0=0.0,\n",
       "  decision_function_shape=None, degree=3, gamma='auto', kernel='rbf',\n",
       "  max_iter=-1, probability=False, random_state=None, shrinking=True,\n",
       "  tol=0.001, verbose=False))]),\n",
       "       fit_params={}, iid=True, n_jobs=1,\n",
       "       param_grid={'svc__gamma': array([  1.00000e-03,   1.00000e-02,   1.00000e-01,   1.00000e+00,\n",
       "         1.00000e+01,   1.00000e+02]), 'svc__class_weight': ['balanced'], 'svc__C': array([  1.00000e-03,   1.00000e-02,   1.00000e-01,   1.00000e+00,\n",
       "         1.00000e+01,   1.00000e+02]), 'feature_selection__k': [7], 'svc__kernel': ['rbf'], 'svc__random_state': [42]},\n",
       "       pre_dispatch='2*n_jobs', refit=True, return_train_score=True,\n",
       "       scoring='f1', verbose=0)"
      ]
     },
     "execution_count": 86,
     "metadata": {},
     "output_type": "execute_result"
    }
   ],
   "source": [
    "#---------------------------------------------------\n",
    "# 3. SVC\n",
    "# SelectKBest\n",
    "from sklearn.svm import SVC\n",
    "classifier = SVC()\n",
    "\n",
    "pipeline = Pipeline(steps=[('minmax_scaler', scaler), ('feature_selection', kbest), ('svc', classifier)])\n",
    "\n",
    "# parameters = dict(svc__C=np.logspace(-3, 2, 6, base=2),\n",
    "#                  svc__kernel=['linear', 'poly', 'rbf', 'sigmoid'],\n",
    "#                  svc__gamma=np.logspace(-3, 2, 6, base=2),\n",
    "#                  svc__class_weight=['balanced'],\n",
    "#                  svc__random_state=[42],\n",
    "#                  feature_selection__k=range(5,10))\n",
    "\n",
    "parameters = dict(svc__C=np.logspace(-3, 2, 6),\n",
    "                 svc__kernel=['rbf'],\n",
    "                 svc__gamma=np.logspace(-3, 2, 6),\n",
    "                 svc__class_weight=['balanced'],\n",
    "                 svc__random_state=[42],\n",
    "                 feature_selection__k=[7])\n",
    "\n",
    "cv_svc = GridSearchCV(pipeline, param_grid=parameters, scoring='f1', cv=sss)\n",
    "cv_svc.fit(features, labels)"
   ]
  },
  {
   "cell_type": "code",
   "execution_count": 87,
   "metadata": {
    "collapsed": false
   },
   "outputs": [
    {
     "data": {
      "text/plain": [
       "{'feature_selection__k': 7,\n",
       " 'svc__C': 0.10000000000000001,\n",
       " 'svc__class_weight': 'balanced',\n",
       " 'svc__gamma': 10.0,\n",
       " 'svc__kernel': 'rbf',\n",
       " 'svc__random_state': 42}"
      ]
     },
     "execution_count": 87,
     "metadata": {},
     "output_type": "execute_result"
    }
   ],
   "source": [
    "cv_svc.best_params_"
   ]
  },
  {
   "cell_type": "code",
   "execution_count": 88,
   "metadata": {
    "collapsed": false
   },
   "outputs": [
    {
     "name": "stdout",
     "output_type": "stream",
     "text": [
      "Pipeline(steps=[('minmax_scaler', MinMaxScaler(copy=True, feature_range=(0, 1))), ('feature_selection', SelectKBest(k=7, score_func=<function f_classif at 0x114fcd9b0>)), ('svc', SVC(C=0.10000000000000001, cache_size=200, class_weight='balanced', coef0=0.0,\n",
      "  decision_function_shape=None, degree=3, gamma=10.0, kernel='rbf',\n",
      "  max_iter=-1, probability=False, random_state=42, shrinking=True,\n",
      "  tol=0.001, verbose=False))])\n",
      "\tAccuracy: 0.67040\tPrecision: 0.27157\tRecall: 0.87500\tF1: 0.41450\tF2: 0.60579\n",
      "\tTotal predictions: 15000\tTrue positives: 1750\tFalse positives: 4694\tFalse negatives:  250\tTrue negatives: 8306\n",
      "\n"
     ]
    }
   ],
   "source": [
    "test_classifier(cv_svc.best_estimator_, my_dataset, features_list)"
   ]
  },
  {
   "cell_type": "code",
   "execution_count": 107,
   "metadata": {
    "collapsed": false
   },
   "outputs": [
    {
     "data": {
      "text/plain": [
       "GridSearchCV(cv=StratifiedShuffleSplit(n_splits=100, random_state=42, test_size=0.3,\n",
       "            train_size=None),\n",
       "       error_score='raise',\n",
       "       estimator=Pipeline(steps=[('minmax_scaler', MinMaxScaler(copy=True, feature_range=(0, 1))), ('feature_selection', SelectKBest(k=10, score_func=<function f_classif at 0x114fcd9b0>)), ('adaboost', AdaBoostClassifier(algorithm='SAMME.R',\n",
       "          base_estimator=DecisionTreeClassifier(class_weight=None, criterion='gini',...dom_state=None, splitter='best'),\n",
       "          learning_rate=1.0, n_estimators=50, random_state=None))]),\n",
       "       fit_params={}, iid=True, n_jobs=1,\n",
       "       param_grid={'adaboost__base_estimator__random_state': [42], 'adaboost__base_estimator__class_weight': ['balanced'], 'adaboost__base_estimator__max_depth': [12, 13], 'adaboost__base_estimator__criterion': ['gini'], 'feature_selection__k': [20, 21], 'adaboost__base_estimator__min_samples_leaf': [1], 'adaboost__random_state': [42]},\n",
       "       pre_dispatch='2*n_jobs', refit=True, return_train_score=True,\n",
       "       scoring='f1', verbose=0)"
      ]
     },
     "execution_count": 107,
     "metadata": {},
     "output_type": "execute_result"
    }
   ],
   "source": [
    "# 4. Adaboost\n",
    "# SelectKBest\n",
    "\n",
    "DTC = DecisionTreeClassifier()\n",
    "ABC = AdaBoostClassifier(base_estimator = DTC)\n",
    "\n",
    "pipeline = Pipeline(steps=[('minmax_scaler', scaler), ('feature_selection', kbest), ('adaboost', ABC)])\n",
    "\n",
    "# parameters = dict(adaboost__random_state=[42],\n",
    "#                   adaboost__base_estimator__min_samples_leaf=range(1, 5),\n",
    "#                   adaboost__base_estimator__max_depth=range(1, 10),\n",
    "#                   adaboost__base_estimator__class_weight=['balanced'],\n",
    "#                   adaboost__base_estimator__criterion=['gini', 'entropy'],\n",
    "#                   feature_selection__k=range(5, 10))\n",
    "parameters = dict(adaboost__random_state=[42],\n",
    "                  adaboost__base_estimator__min_samples_leaf=[1],\n",
    "                  adaboost__base_estimator__max_depth=range(12, 14),\n",
    "                  adaboost__base_estimator__class_weight=['balanced'],\n",
    "                  adaboost__base_estimator__criterion=['gini'],\n",
    "                  adaboost__base_estimator__random_state=[42],\n",
    "                  feature_selection__k=range(20, 22))\n",
    "\n",
    "cv_ab = GridSearchCV(pipeline, param_grid=parameters, scoring='f1', cv=sss)\n",
    "cv_ab.fit(features, labels)"
   ]
  },
  {
   "cell_type": "code",
   "execution_count": 108,
   "metadata": {
    "collapsed": false
   },
   "outputs": [
    {
     "data": {
      "text/plain": [
       "{'adaboost__base_estimator__class_weight': 'balanced',\n",
       " 'adaboost__base_estimator__criterion': 'gini',\n",
       " 'adaboost__base_estimator__max_depth': 12,\n",
       " 'adaboost__base_estimator__min_samples_leaf': 1,\n",
       " 'adaboost__base_estimator__random_state': 42,\n",
       " 'adaboost__random_state': 42,\n",
       " 'feature_selection__k': 20}"
      ]
     },
     "execution_count": 108,
     "metadata": {},
     "output_type": "execute_result"
    }
   ],
   "source": [
    "cv_ab.best_params_"
   ]
  },
  {
   "cell_type": "code",
   "execution_count": 109,
   "metadata": {
    "collapsed": false
   },
   "outputs": [
    {
     "name": "stdout",
     "output_type": "stream",
     "text": [
      "Pipeline(steps=[('minmax_scaler', MinMaxScaler(copy=True, feature_range=(0, 1))), ('feature_selection', SelectKBest(k=20, score_func=<function f_classif at 0x114fcd9b0>)), ('adaboost', AdaBoostClassifier(algorithm='SAMME.R',\n",
      "          base_estimator=DecisionTreeClassifier(class_weight='balanced', criterion='... random_state=42, splitter='best'),\n",
      "          learning_rate=1.0, n_estimators=50, random_state=42))])\n",
      "\tAccuracy: 0.84113\tPrecision: 0.40382\tRecall: 0.40200\tF1: 0.40291\tF2: 0.40236\n",
      "\tTotal predictions: 15000\tTrue positives:  804\tFalse positives: 1187\tFalse negatives: 1196\tTrue negatives: 11813\n",
      "\n"
     ]
    }
   ],
   "source": [
    "test_classifier(cv_ab.best_estimator_, my_dataset, features_list)"
   ]
  },
  {
   "cell_type": "code",
   "execution_count": 164,
   "metadata": {
    "collapsed": false
   },
   "outputs": [
    {
     "data": {
      "text/plain": [
       "GridSearchCV(cv=StratifiedShuffleSplit(n_splits=100, random_state=42, test_size=0.3,\n",
       "            train_size=None),\n",
       "       error_score='raise',\n",
       "       estimator=Pipeline(steps=[('minmax_scaler', StandardScaler(copy=True, with_mean=True, with_std=True)), ('feature_selection', SelectKBest(k=10, score_func=<function f_classif at 0x114fcd9b0>)), ('adaboost', AdaBoostClassifier(algorithm='SAMME.R',\n",
       "          base_estimator=DecisionTreeClassifier(class_weight=None, criter...dom_state=None, splitter='best'),\n",
       "          learning_rate=1.0, n_estimators=50, random_state=None))]),\n",
       "       fit_params={}, iid=True, n_jobs=1,\n",
       "       param_grid={'adaboost__base_estimator__random_state': [42], 'adaboost__base_estimator__class_weight': ['balanced'], 'adaboost__base_estimator__max_depth': [8, 9], 'adaboost__base_estimator__criterion': ['gini'], 'feature_selection__k': [19], 'adaboost__base_estimator__min_samples_leaf': [1], 'adaboost__random_state': [42]},\n",
       "       pre_dispatch='2*n_jobs', refit=True, return_train_score=True,\n",
       "       scoring='f1', verbose=0)"
      ]
     },
     "execution_count": 164,
     "metadata": {},
     "output_type": "execute_result"
    }
   ],
   "source": [
    "# standard scaling\n",
    "pipeline = Pipeline(steps=[('minmax_scaler', stand_scaler), ('feature_selection', kbest), ('adaboost', ABC)])\n",
    "\n",
    "# parameters = dict(adaboost__random_state=[42],\n",
    "#                   adaboost__base_estimator__min_samples_leaf=range(1, 5),\n",
    "#                   adaboost__base_estimator__max_depth=range(1, 10),\n",
    "#                   adaboost__base_estimator__class_weight=['balanced'],\n",
    "#                   adaboost__base_estimator__criterion=['gini', 'entropy'],\n",
    "#                   feature_selection__k=range(5, 10))\n",
    "parameters = dict(adaboost__random_state=[42],\n",
    "                  adaboost__base_estimator__min_samples_leaf=[1],\n",
    "                  adaboost__base_estimator__max_depth=range(8, 10),\n",
    "                  adaboost__base_estimator__class_weight=['balanced'],\n",
    "                  adaboost__base_estimator__criterion=['gini'],\n",
    "                  adaboost__base_estimator__random_state=[42],\n",
    "                  feature_selection__k=[19])\n",
    "\n",
    "cv_ab_sd = GridSearchCV(pipeline, param_grid=parameters, scoring='f1', cv=sss)\n",
    "cv_ab_sd.fit(features, labels)"
   ]
  },
  {
   "cell_type": "code",
   "execution_count": 165,
   "metadata": {
    "collapsed": false
   },
   "outputs": [
    {
     "data": {
      "text/plain": [
       "{'adaboost__base_estimator__class_weight': 'balanced',\n",
       " 'adaboost__base_estimator__criterion': 'gini',\n",
       " 'adaboost__base_estimator__max_depth': 9,\n",
       " 'adaboost__base_estimator__min_samples_leaf': 1,\n",
       " 'adaboost__base_estimator__random_state': 42,\n",
       " 'adaboost__random_state': 42,\n",
       " 'feature_selection__k': 19}"
      ]
     },
     "execution_count": 165,
     "metadata": {},
     "output_type": "execute_result"
    }
   ],
   "source": [
    "cv_ab_sd.best_params_"
   ]
  },
  {
   "cell_type": "code",
   "execution_count": 166,
   "metadata": {
    "collapsed": false
   },
   "outputs": [
    {
     "name": "stdout",
     "output_type": "stream",
     "text": [
      "Pipeline(steps=[('minmax_scaler', StandardScaler(copy=True, with_mean=True, with_std=True)), ('feature_selection', SelectKBest(k=19, score_func=<function f_classif at 0x114fcd9b0>)), ('adaboost', AdaBoostClassifier(algorithm='SAMME.R',\n",
      "          base_estimator=DecisionTreeClassifier(class_weight='balanced', ... random_state=42, splitter='best'),\n",
      "          learning_rate=1.0, n_estimators=50, random_state=42))])\n",
      "\tAccuracy: 0.83973\tPrecision: 0.36763\tRecall: 0.28050\tF1: 0.31821\tF2: 0.29446\n",
      "\tTotal predictions: 15000\tTrue positives:  561\tFalse positives:  965\tFalse negatives: 1439\tTrue negatives: 12035\n",
      "\n"
     ]
    }
   ],
   "source": [
    "test_classifier(cv_ab_sd.best_estimator_, my_dataset, features_list)"
   ]
  },
  {
   "cell_type": "code",
   "execution_count": 169,
   "metadata": {
    "collapsed": false
   },
   "outputs": [
    {
     "data": {
      "text/plain": [
       "GridSearchCV(cv=StratifiedShuffleSplit(n_splits=10, random_state=42, test_size=0.3,\n",
       "            train_size=None),\n",
       "       error_score='raise',\n",
       "       estimator=Pipeline(steps=[('feature_selection', SelectKBest(k=10, score_func=<function f_classif at 0x114fcd9b0>)), ('adaboost', AdaBoostClassifier(algorithm='SAMME.R',\n",
       "          base_estimator=DecisionTreeClassifier(class_weight=None, criterion='gini', max_depth=None,\n",
       "            max_features=None, max_leaf_nodes=Non...dom_state=None, splitter='best'),\n",
       "          learning_rate=1.0, n_estimators=50, random_state=None))]),\n",
       "       fit_params={}, iid=True, n_jobs=1,\n",
       "       param_grid={'adaboost__base_estimator__random_state': [42], 'adaboost__base_estimator__class_weight': ['balanced'], 'adaboost__base_estimator__max_depth': [1, 2, 3, 4, 5, 6, 7, 8, 9], 'adaboost__base_estimator__criterion': ['gini', 'entropy'], 'feature_selection__k': [18, 19, 20], 'adaboost__base_estimator__min_samples_leaf': [1, 2, 3, 4], 'adaboost__random_state': [42]},\n",
       "       pre_dispatch='2*n_jobs', refit=True, return_train_score=True,\n",
       "       scoring='f1', verbose=0)"
      ]
     },
     "execution_count": 169,
     "metadata": {},
     "output_type": "execute_result"
    }
   ],
   "source": [
    "# no scaling\n",
    "pipeline = Pipeline(steps=[('feature_selection', kbest), ('adaboost', ABC)])\n",
    "\n",
    "# parameters = dict(adaboost__random_state=[42],\n",
    "#                   adaboost__base_estimator__min_samples_leaf=range(1, 5),\n",
    "#                   adaboost__base_estimator__max_depth=range(1, 10),\n",
    "#                   adaboost__base_estimator__class_weight=['balanced'],\n",
    "#                   adaboost__base_estimator__criterion=['gini', 'entropy'],\n",
    "#                   feature_selection__k=range(5, 10))\n",
    "parameters = dict(adaboost__random_state=[42],\n",
    "                  adaboost__base_estimator__min_samples_leaf=range(1, 5),\n",
    "                  adaboost__base_estimator__max_depth=[1, 3, 5, 7, 9],\n",
    "                  adaboost__base_estimator__class_weight=['balanced'],\n",
    "                  adaboost__base_estimator__criterion=['gini', 'entropy'],\n",
    "                  adaboost__base_estimator__random_state=[42],\n",
    "                  feature_selection__k=[20])\n",
    "\n",
    "cv_ab_no = GridSearchCV(pipeline, param_grid=parameters, scoring='f1', cv=sss)\n",
    "cv_ab_no.fit(features, labels)"
   ]
  },
  {
   "cell_type": "code",
   "execution_count": 172,
   "metadata": {
    "collapsed": false
   },
   "outputs": [
    {
     "data": {
      "text/plain": [
       "{'adaboost__base_estimator__class_weight': 'balanced',\n",
       " 'adaboost__base_estimator__criterion': 'entropy',\n",
       " 'adaboost__base_estimator__max_depth': 1,\n",
       " 'adaboost__base_estimator__min_samples_leaf': 3,\n",
       " 'adaboost__base_estimator__random_state': 42,\n",
       " 'adaboost__random_state': 42,\n",
       " 'feature_selection__k': 20}"
      ]
     },
     "execution_count": 172,
     "metadata": {},
     "output_type": "execute_result"
    }
   ],
   "source": [
    "cv_ab_no.best_params_"
   ]
  },
  {
   "cell_type": "code",
   "execution_count": 171,
   "metadata": {
    "collapsed": false
   },
   "outputs": [
    {
     "name": "stdout",
     "output_type": "stream",
     "text": [
      "Pipeline(steps=[('feature_selection', SelectKBest(k=20, score_func=<function f_classif at 0x114fcd9b0>)), ('adaboost', AdaBoostClassifier(algorithm='SAMME.R',\n",
      "          base_estimator=DecisionTreeClassifier(class_weight='balanced', criterion='entropy',\n",
      "            max_depth=1, max_features=None, max_leaf_nod... random_state=42, splitter='best'),\n",
      "          learning_rate=1.0, n_estimators=50, random_state=42))])\n",
      "\tAccuracy: 0.83627\tPrecision: 0.37676\tRecall: 0.34850\tF1: 0.36208\tF2: 0.35381\n",
      "\tTotal predictions: 15000\tTrue positives:  697\tFalse positives: 1153\tFalse negatives: 1303\tTrue negatives: 11847\n",
      "\n"
     ]
    }
   ],
   "source": [
    "test_classifier(cv_ab_no.best_estimator_, my_dataset, features_list)"
   ]
  },
  {
   "cell_type": "code",
   "execution_count": 179,
   "metadata": {
    "collapsed": false
   },
   "outputs": [
    {
     "data": {
      "text/plain": [
       "GridSearchCV(cv=StratifiedShuffleSplit(n_splits=100, random_state=42, test_size=0.3,\n",
       "            train_size=None),\n",
       "       error_score='raise',\n",
       "       estimator=Pipeline(steps=[('minmax_scaler', MinMaxScaler(copy=True, feature_range=(0, 1))), ('feature_selection', PCA(copy=True, iterated_power='auto', n_components=None, random_state=None,\n",
       "  svd_solver='auto', tol=0.0, whiten=False)), ('adaboost', AdaBoostClassifier(algorithm='SAMME.R',\n",
       "          base_estimator=Decis...dom_state=None, splitter='best'),\n",
       "          learning_rate=1.0, n_estimators=50, random_state=None))]),\n",
       "       fit_params={}, iid=True, n_jobs=1,\n",
       "       param_grid={'adaboost__base_estimator__class_weight': ['balanced'], 'feature_selection__n_components': [4, 5, 6], 'adaboost__base_estimator__max_depth': [1, 2, 3, 4, 5, 6, 7, 8, 9], 'adaboost__base_estimator__criterion': ['entropy'], 'adaboost__base_estimator__min_samples_leaf': [3, 4, 5], 'adaboost__random_state': [42]},\n",
       "       pre_dispatch='2*n_jobs', refit=True, return_train_score=True,\n",
       "       scoring='f1', verbose=0)"
      ]
     },
     "execution_count": 179,
     "metadata": {},
     "output_type": "execute_result"
    }
   ],
   "source": [
    "# PCA\n",
    "pipeline = Pipeline(steps=[('minmax_scaler', scaler), ('feature_selection', pca), ('adaboost', ABC)])\n",
    "\n",
    "# parameters = dict(adaboost__random_state=[42],\n",
    "#                   adaboost__base_estimator__min_samples_leaf=range(3, 6),\n",
    "#                   adaboost__base_estimator__max_depth=range(1, 10),\n",
    "#                   adaboost__base_estimator__class_weight=['balanced'],\n",
    "#                   adaboost__base_estimator__criterion=['gini', 'entropy'],\n",
    "#                   feature_selection__n_components=range(4,7))\n",
    "\n",
    "# parameters = dict(adaboost__random_state=[42],\n",
    "#                   adaboost__base_estimator__min_samples_leaf=[4],\n",
    "#                   adaboost__base_estimator__max_depth=[1],\n",
    "#                   adaboost__base_estimator__class_weight=['balanced'],\n",
    "#                   adaboost__base_estimator__criterion=['entropy'],\n",
    "#                   feature_selection__n_components=[5])\n",
    "\n",
    "parameters = dict(adaboost__random_state=[42],\n",
    "                  adaboost__base_estimator__min_samples_leaf=range(3, 6),\n",
    "                  adaboost__base_estimator__max_depth=range(1, 10),\n",
    "                  adaboost__base_estimator__class_weight=['balanced'],\n",
    "                  adaboost__base_estimator__criterion=['entropy'],\n",
    "                  feature_selection__n_components=range(4,7))\n",
    "\n",
    "cv_ab_pca = GridSearchCV(pipeline, param_grid=parameters, scoring='f1', cv=sss)\n",
    "cv_ab_pca.fit(features, labels)"
   ]
  },
  {
   "cell_type": "code",
   "execution_count": 180,
   "metadata": {
    "collapsed": false
   },
   "outputs": [
    {
     "data": {
      "text/plain": [
       "{'adaboost__base_estimator__class_weight': 'balanced',\n",
       " 'adaboost__base_estimator__criterion': 'entropy',\n",
       " 'adaboost__base_estimator__max_depth': 1,\n",
       " 'adaboost__base_estimator__min_samples_leaf': 4,\n",
       " 'adaboost__random_state': 42,\n",
       " 'feature_selection__n_components': 4}"
      ]
     },
     "execution_count": 180,
     "metadata": {},
     "output_type": "execute_result"
    }
   ],
   "source": [
    "cv_ab_pca.best_params_"
   ]
  },
  {
   "cell_type": "code",
   "execution_count": 181,
   "metadata": {
    "collapsed": false
   },
   "outputs": [
    {
     "name": "stdout",
     "output_type": "stream",
     "text": [
      "Pipeline(steps=[('minmax_scaler', MinMaxScaler(copy=True, feature_range=(0, 1))), ('feature_selection', PCA(copy=True, iterated_power='auto', n_components=4, random_state=None,\n",
      "  svd_solver='auto', tol=0.0, whiten=False)), ('adaboost', AdaBoostClassifier(algorithm='SAMME.R',\n",
      "          base_estimator=Decision...andom_state=None, splitter='best'),\n",
      "          learning_rate=1.0, n_estimators=50, random_state=42))])\n",
      "\tAccuracy: 0.79433\tPrecision: 0.21760\tRecall: 0.20900\tF1: 0.21321\tF2: 0.21066\n",
      "\tTotal predictions: 15000\tTrue positives:  418\tFalse positives: 1503\tFalse negatives: 1582\tTrue negatives: 11497\n",
      "\n"
     ]
    }
   ],
   "source": [
    "test_classifier(cv_ab_pca.best_estimator_, my_dataset, features_list)"
   ]
  },
  {
   "cell_type": "code",
   "execution_count": 132,
   "metadata": {
    "collapsed": false
   },
   "outputs": [
    {
     "data": {
      "text/plain": [
       "GridSearchCV(cv=StratifiedShuffleSplit(n_splits=100, random_state=42, test_size=0.3,\n",
       "            train_size=None),\n",
       "       error_score='raise',\n",
       "       estimator=Pipeline(steps=[('minmax_scaler', MinMaxScaler(copy=True, feature_range=(0, 1))), ('feature_selection', SelectKBest(k=10, score_func=<function f_classif at 0x114fcd9b0>)), ('random_forest', RandomForestClassifier(bootstrap=True, class_weight=None, criterion='gini',\n",
       "            max_depth=None, max_features='a...imators=10, n_jobs=1, oob_score=False, random_state=None,\n",
       "            verbose=0, warm_start=False))]),\n",
       "       fit_params={}, iid=True, n_jobs=1,\n",
       "       param_grid={'random_forest__criterion': ['entropy'], 'random_forest__n_estimators': [15], 'feature_selection__k': [10], 'random_forest__min_samples_split': [2, 4]},\n",
       "       pre_dispatch='2*n_jobs', refit=True, return_train_score=True,\n",
       "       scoring='f1', verbose=0)"
      ]
     },
     "execution_count": 132,
     "metadata": {},
     "output_type": "execute_result"
    }
   ],
   "source": [
    "# ------------------------------------\n",
    "# 5. Randomforest\n",
    "# SelectKBest\n",
    "classifier = RandomForestClassifier()\n",
    "\n",
    "pipeline = Pipeline(steps=[('minmax_scaler', scaler), ('feature_selection', kbest), ('random_forest', classifier)])\n",
    "\n",
    "# parameters = dict(random_forest__n_estimators=[25, 50],\n",
    "#                  random_forest__min_samples_split=[2, 3, 4],\n",
    "#                  random_forest__criterion=['gini', 'entropy'],\n",
    "#                  feature_selection__k=range(5,10))\n",
    "\n",
    "parameters = dict(random_forest__n_estimators=[15],\n",
    "                 random_forest__min_samples_split=[2, 4],\n",
    "                 random_forest__criterion=['entropy'],\n",
    "                 feature_selection__k=[10])\n",
    "\n",
    "cv_rf = GridSearchCV(pipeline, param_grid=parameters, scoring='f1', cv=sss)\n",
    "cv_rf.fit(features, labels)"
   ]
  },
  {
   "cell_type": "code",
   "execution_count": 133,
   "metadata": {
    "collapsed": false
   },
   "outputs": [
    {
     "data": {
      "text/plain": [
       "{'feature_selection__k': 10,\n",
       " 'random_forest__criterion': 'entropy',\n",
       " 'random_forest__min_samples_split': 2,\n",
       " 'random_forest__n_estimators': 15}"
      ]
     },
     "execution_count": 133,
     "metadata": {},
     "output_type": "execute_result"
    }
   ],
   "source": [
    "cv_rf.best_params_"
   ]
  },
  {
   "cell_type": "code",
   "execution_count": 134,
   "metadata": {
    "collapsed": false
   },
   "outputs": [
    {
     "name": "stdout",
     "output_type": "stream",
     "text": [
      "Pipeline(steps=[('minmax_scaler', MinMaxScaler(copy=True, feature_range=(0, 1))), ('feature_selection', SelectKBest(k=10, score_func=<function f_classif at 0x114fcd9b0>)), ('random_forest', RandomForestClassifier(bootstrap=True, class_weight=None, criterion='entropy',\n",
      "            max_depth=None, max_features...imators=15, n_jobs=1, oob_score=False, random_state=None,\n",
      "            verbose=0, warm_start=False))])\n",
      "\tAccuracy: 0.85900\tPrecision: 0.42927\tRecall: 0.17450\tF1: 0.24813\tF2: 0.19800\n",
      "\tTotal predictions: 15000\tTrue positives:  349\tFalse positives:  464\tFalse negatives: 1651\tTrue negatives: 12536\n",
      "\n"
     ]
    }
   ],
   "source": [
    "test_classifier(cv_rf.best_estimator_, my_dataset, features_list)"
   ]
  },
  {
   "cell_type": "code",
   "execution_count": 89,
   "metadata": {
    "collapsed": false
   },
   "outputs": [
    {
     "data": {
      "text/plain": [
       "GridSearchCV(cv=StratifiedShuffleSplit(n_splits=100, random_state=42, test_size=0.3,\n",
       "            train_size=None),\n",
       "       error_score='raise',\n",
       "       estimator=Pipeline(steps=[('minmax_scaler', MinMaxScaler(copy=True, feature_range=(0, 1))), ('feature_selection', SelectKBest(k=10, score_func=<function f_classif at 0x114fcd9b0>)), ('naive_bayes', GaussianNB(priors=None))]),\n",
       "       fit_params={}, iid=True, n_jobs=1,\n",
       "       param_grid={'feature_selection__k': [5, 6, 7, 8, 9]},\n",
       "       pre_dispatch='2*n_jobs', refit=True, return_train_score=True,\n",
       "       scoring='f1', verbose=0)"
      ]
     },
     "execution_count": 89,
     "metadata": {},
     "output_type": "execute_result"
    }
   ],
   "source": [
    "#-----------------------------------------------------\n",
    "# 6. Naive Bayes\n",
    "# SelectKBest\n",
    "classifier = GaussianNB()\n",
    "\n",
    "pipeline = Pipeline(steps=[('minmax_scaler', scaler), ('feature_selection', kbest), ('naive_bayes', classifier)])\n",
    "\n",
    "parameters = dict(feature_selection__k=range(5,10))\n",
    "\n",
    "cv_nb = GridSearchCV(pipeline, param_grid=parameters, scoring='f1', cv=sss)\n",
    "cv_nb.fit(features, labels)"
   ]
  },
  {
   "cell_type": "code",
   "execution_count": 90,
   "metadata": {
    "collapsed": false
   },
   "outputs": [
    {
     "data": {
      "text/plain": [
       "{'feature_selection__k': 6}"
      ]
     },
     "execution_count": 90,
     "metadata": {},
     "output_type": "execute_result"
    }
   ],
   "source": [
    "cv_nb.best_params_"
   ]
  },
  {
   "cell_type": "code",
   "execution_count": 91,
   "metadata": {
    "collapsed": false
   },
   "outputs": [
    {
     "name": "stdout",
     "output_type": "stream",
     "text": [
      "Pipeline(steps=[('minmax_scaler', MinMaxScaler(copy=True, feature_range=(0, 1))), ('feature_selection', SelectKBest(k=6, score_func=<function f_classif at 0x114fcd9b0>)), ('naive_bayes', GaussianNB(priors=None))])\n",
      "\tAccuracy: 0.83920\tPrecision: 0.37753\tRecall: 0.31750\tF1: 0.34492\tF2: 0.32793\n",
      "\tTotal predictions: 15000\tTrue positives:  635\tFalse positives: 1047\tFalse negatives: 1365\tTrue negatives: 11953\n",
      "\n"
     ]
    }
   ],
   "source": [
    "test_classifier(cv_nb.best_estimator_, my_dataset, features_list)"
   ]
  },
  {
   "cell_type": "code",
   "execution_count": null,
   "metadata": {
    "collapsed": true
   },
   "outputs": [],
   "source": []
  }
 ],
 "metadata": {
  "anaconda-cloud": {},
  "kernelspec": {
   "display_name": "Python [default]",
   "language": "python",
   "name": "python2"
  },
  "language_info": {
   "codemirror_mode": {
    "name": "ipython",
    "version": 2
   },
   "file_extension": ".py",
   "mimetype": "text/x-python",
   "name": "python",
   "nbconvert_exporter": "python",
   "pygments_lexer": "ipython2",
   "version": "2.7.12"
  }
 },
 "nbformat": 4,
 "nbformat_minor": 1
}
